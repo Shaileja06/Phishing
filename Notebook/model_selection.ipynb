{
  "cells": [
    {
      "cell_type": "code",
      "execution_count": 1,
      "metadata": {
        "colab": {
          "base_uri": "https://localhost:8080/"
        },
        "id": "Y8vSBfTUSZ_8",
        "outputId": "6f4704b3-de93-4c88-e1e8-b288ad8513c2"
      },
      "outputs": [
        {
          "name": "stdout",
          "output_type": "stream",
          "text": [
            "Archive:  /content/72ptz43s9v-1.zip\n",
            "  inflating: dataset_small.csv       \n",
            "  inflating: dataset_full.csv        \n"
          ]
        }
      ],
      "source": [
        "import numpy as np\n",
        "import matplotlib as plt\n",
        "import seaborn as sns\n",
        "import pandas as pd\n",
        "!unzip /content/72ptz43s9v-1.zip\n",
        "df = pd.read_csv('/content/dataset_small.csv')"
      ]
    },
    {
      "cell_type": "markdown",
      "metadata": {
        "id": "01bgwLgzGaFQ"
      },
      "source": [
        "# **Data Cleaning**"
      ]
    },
    {
      "cell_type": "code",
      "execution_count": 17,
      "metadata": {
        "id": "SaU8aRhDksYZ"
      },
      "outputs": [],
      "source": [
        "df = pd.read_csv('/content/dataset_full.csv')"
      ]
    },
    {
      "cell_type": "code",
      "execution_count": 18,
      "metadata": {
        "id": "mTgF-cQ6GYi1"
      },
      "outputs": [],
      "source": [
        "skipped_features = [\n",
        "    'time_response',\n",
        "    'domain_spf',\n",
        "    'asn_ip',\n",
        "    'qty_ip_resolved',\n",
        "    'qty_nameservers',\n",
        "    'qty_mx_servers',\n",
        "    'ttl_hostname',\n",
        "    'qty_redirects',\n",
        "    'url_google_index',\n",
        "    'domain_google_index', #remove url shorten and https one\n",
        "    'time_domain_activation',\n",
        "    'time_domain_expiration',\n",
        "]\n",
        "\n",
        "\n",
        "df = df.drop(skipped_features,axis=1)"
      ]
    },
    {
      "cell_type": "code",
      "execution_count": 19,
      "metadata": {
        "colab": {
          "base_uri": "https://localhost:8080/"
        },
        "id": "EfZb2OQ4UuRF",
        "outputId": "29d486f8-d4cc-4659-bbfe-13073758a24e"
      },
      "outputs": [
        {
          "name": "stdout",
          "output_type": "stream",
          "text": [
            "{'qty_questionmark_domain', 'qty_percent_file', 'qty_dollar_directory', 'qty_and_url', 'qty_dollar_domain', 'qty_plus_directory', 'qty_plus_file', 'qty_slash_domain', 'qty_comma_domain', 'qty_space_domain', 'qty_and_directory', 'qty_space_params', 'qty_comma_file', 'qty_underline_file', 'qty_at_directory', 'qty_space_directory', 'qty_tilde_params', 'qty_and_domain', 'qty_dollar_file', 'qty_hashtag_params', 'qty_hashtag_file', 'domain_length', 'qty_dot_file', 'qty_plus_domain', 'qty_hyphen_file', 'qty_slash_file', 'qty_space_file', 'params_length', 'tld_present_params', 'qty_hashtag_domain', 'qty_comma_params', 'qty_equal_domain', 'qty_plus_params', 'qty_exclamation_file', 'qty_tilde_domain', 'qty_asterisk_directory', 'qty_exclamation_domain', 'qty_at_file', 'qty_and_file', 'qty_asterisk_domain', 'qty_asterisk_params', 'qty_equal_params', 'qty_exclamation_directory', 'qty_tilde_file', 'qty_and_params', 'qty_exclamation_params', 'qty_comma_directory', 'qty_dollar_params', 'qty_slash_directory', 'qty_percent_domain', 'qty_hashtag_directory', 'qty_tilde_directory', 'qty_asterisk_file', 'qty_at_params', 'qty_equal_file', 'qty_questionmark_directory', 'qty_equal_directory', 'qty_params', 'qty_questionmark_file'}\n"
          ]
        }
      ],
      "source": [
        "class DataCleaning:\n",
        "\n",
        "    def __init__(self, df, missing_threshold, corr_threshold):\n",
        "        self.df = df\n",
        "        self.missing_threshold = missing_threshold\n",
        "        self.corr_threshold = corr_threshold\n",
        "\n",
        "    def col_with_variance_0(self):\n",
        "        columns_to_drop = []\n",
        "        numerical_columns = [col for col in self.df.columns if self.df[col].dtype != 'O']\n",
        "        for col in numerical_columns:\n",
        "            if self.df[col].std() == 0:\n",
        "                columns_to_drop.append(col)\n",
        "        return columns_to_drop\n",
        "\n",
        "    def get_redundant_cols(self):\n",
        "        cols_missing_ratios = self.df.isna().sum().div(self.df.shape[0])\n",
        "        cols_to_drop = list(cols_missing_ratios[cols_missing_ratios > self.missing_threshold].index)\n",
        "        return cols_to_drop\n",
        "\n",
        "    def dropping_columns_on_basis_of_correlation(self):\n",
        "        columns_to_drop = set()\n",
        "        relation = self.df.corr()\n",
        "        for columns in range(len(relation.columns)):\n",
        "            for rows in range(columns):\n",
        "                if abs(relation.iloc[columns, rows]) > self.corr_threshold:\n",
        "                    col_name = relation.columns[columns]\n",
        "                    columns_to_drop.add(col_name)\n",
        "        columns_to_drop = list(columns_to_drop)\n",
        "        return columns_to_drop\n",
        "\n",
        "    def feature_scaling_df(self):\n",
        "        cols_to_drop_1 = self.get_redundant_cols()\n",
        "        cols_to_drop_2 = self.col_with_variance_0()\n",
        "        cols_to_drop_3 = self.dropping_columns_on_basis_of_correlation()\n",
        "        columns_to_drop = cols_to_drop_1 + cols_to_drop_2 + cols_to_drop_3\n",
        "        columns_to_drop = set(columns_to_drop)\n",
        "        return columns_to_drop\n",
        "\n",
        "\n",
        "clean = DataCleaning(df, 0.8, 0.8)\n",
        "drop_columns = clean.feature_scaling_df()\n",
        "print(drop_columns)\n",
        "df2 = df.drop(columns=drop_columns)"
      ]
    },
    {
      "cell_type": "code",
      "execution_count": 20,
      "metadata": {
        "colab": {
          "base_uri": "https://localhost:8080/"
        },
        "id": "lun5y-TnikQZ",
        "outputId": "520a8922-e9a2-42dc-efe4-82cdd3a2d8ee"
      },
      "outputs": [
        {
          "data": {
            "text/plain": [
              "59"
            ]
          },
          "execution_count": 20,
          "metadata": {},
          "output_type": "execute_result"
        }
      ],
      "source": [
        "len(drop_columns)"
      ]
    },
    {
      "cell_type": "code",
      "execution_count": 21,
      "metadata": {
        "colab": {
          "base_uri": "https://localhost:8080/"
        },
        "id": "OGMYEDCKhTpS",
        "outputId": "736f40bb-10a1-4a34-ac01-aea1f4a49fb4"
      },
      "outputs": [
        {
          "data": {
            "text/plain": [
              "41"
            ]
          },
          "execution_count": 21,
          "metadata": {},
          "output_type": "execute_result"
        }
      ],
      "source": [
        "len(list(df2.columns))"
      ]
    },
    {
      "cell_type": "markdown",
      "metadata": {
        "id": "2zNwTAPUGlBJ"
      },
      "source": [
        "# **Data Transformation**"
      ]
    },
    {
      "cell_type": "code",
      "execution_count": 22,
      "metadata": {
        "id": "ObdPFLo9U7C4"
      },
      "outputs": [],
      "source": [
        "from sklearn.preprocessing import StandardScaler\n",
        "from xgboost import XGBClassifier\n",
        "from sklearn.model_selection import train_test_split\n",
        "from sklearn.decomposition import PCA"
      ]
    },
    {
      "cell_type": "code",
      "execution_count": 59,
      "metadata": {
        "colab": {
          "base_uri": "https://localhost:8080/"
        },
        "id": "AruRbVp7-bTR",
        "outputId": "6d4385b1-1f35-43de-de64-a759aa762686"
      },
      "outputs": [
        {
          "data": {
            "text/plain": [
              "['qty_dot_url',\n",
              " 'qty_hyphen_url',\n",
              " 'qty_underline_url',\n",
              " 'qty_slash_url',\n",
              " 'qty_questionmark_url',\n",
              " 'qty_equal_url',\n",
              " 'qty_at_url',\n",
              " 'qty_exclamation_url',\n",
              " 'qty_space_url',\n",
              " 'qty_tilde_url',\n",
              " 'qty_comma_url',\n",
              " 'qty_plus_url',\n",
              " 'qty_asterisk_url',\n",
              " 'qty_hashtag_url',\n",
              " 'qty_dollar_url',\n",
              " 'qty_percent_url',\n",
              " 'qty_tld_url',\n",
              " 'length_url',\n",
              " 'qty_dot_domain',\n",
              " 'qty_hyphen_domain',\n",
              " 'qty_underline_domain',\n",
              " 'qty_at_domain',\n",
              " 'qty_vowels_domain',\n",
              " 'domain_in_ip',\n",
              " 'server_client_domain',\n",
              " 'qty_dot_directory',\n",
              " 'qty_hyphen_directory',\n",
              " 'qty_underline_directory',\n",
              " 'qty_percent_directory',\n",
              " 'directory_length',\n",
              " 'file_length',\n",
              " 'qty_dot_params',\n",
              " 'qty_hyphen_params',\n",
              " 'qty_underline_params',\n",
              " 'qty_slash_params',\n",
              " 'qty_questionmark_params',\n",
              " 'qty_percent_params',\n",
              " 'email_in_url',\n",
              " 'tls_ssl_certificate',\n",
              " 'url_shortened',\n",
              " 'phishing']"
            ]
          },
          "execution_count": 59,
          "metadata": {},
          "output_type": "execute_result"
        }
      ],
      "source": [
        "list(df2.columns)"
      ]
    },
    {
      "cell_type": "code",
      "execution_count": 25,
      "metadata": {
        "id": "Gm_dtZrBiYlN"
      },
      "outputs": [],
      "source": [
        "X = df2.drop(columns='phishing',axis=1)\n",
        "y = df2['phishing']"
      ]
    },
    {
      "cell_type": "code",
      "execution_count": 26,
      "metadata": {
        "colab": {
          "base_uri": "https://localhost:8080/"
        },
        "id": "pouLMVgNmM-m",
        "outputId": "2863d381-998d-49c9-82db-d330421d36fb"
      },
      "outputs": [
        {
          "data": {
            "text/plain": [
              "(88647, 40)"
            ]
          },
          "execution_count": 26,
          "metadata": {},
          "output_type": "execute_result"
        }
      ],
      "source": [
        "X.shape"
      ]
    },
    {
      "cell_type": "code",
      "execution_count": 27,
      "metadata": {
        "id": "tFtpXb-llevE"
      },
      "outputs": [],
      "source": [
        "from imblearn.over_sampling import SMOTE\n",
        "\n",
        "smote = SMOTE(sampling_strategy='all', k_neighbors=5)\n",
        "X, Y = smote.fit_resample(X,y)\n"
      ]
    },
    {
      "cell_type": "code",
      "execution_count": 28,
      "metadata": {
        "colab": {
          "base_uri": "https://localhost:8080/"
        },
        "id": "6KqmcJRhmFO1",
        "outputId": "d6e6142d-dcb0-4844-ba94-94871a89dfe8"
      },
      "outputs": [
        {
          "data": {
            "text/plain": [
              "(116000, 40)"
            ]
          },
          "execution_count": 28,
          "metadata": {},
          "output_type": "execute_result"
        }
      ],
      "source": [
        "X.shape"
      ]
    },
    {
      "cell_type": "code",
      "execution_count": 30,
      "metadata": {
        "colab": {
          "base_uri": "https://localhost:8080/"
        },
        "id": "RrIMfceQmkXu",
        "outputId": "acfd9880-4023-46ee-dc43-804295772960"
      },
      "outputs": [
        {
          "data": {
            "text/plain": [
              "1    58000\n",
              "0    58000\n",
              "Name: phishing, dtype: int64"
            ]
          },
          "execution_count": 30,
          "metadata": {},
          "output_type": "execute_result"
        }
      ],
      "source": [
        "Y.value_counts()"
      ]
    },
    {
      "cell_type": "code",
      "execution_count": 31,
      "metadata": {
        "id": "ZfbVpmMSG01H"
      },
      "outputs": [],
      "source": [
        "X_train, X_test, y_train, y_test = train_test_split(X ,Y, test_size=0.25, random_state=42)"
      ]
    },
    {
      "cell_type": "code",
      "execution_count": 32,
      "metadata": {
        "id": "GBQzAa9lG5KL"
      },
      "outputs": [],
      "source": [
        "pca = PCA(n_components=10)\n",
        "X_pca_train = pca.fit_transform(X_train)\n",
        "X_pca_test = pca.transform(X_test)"
      ]
    },
    {
      "cell_type": "code",
      "execution_count": 33,
      "metadata": {
        "id": "PJF3eJoNG3H8"
      },
      "outputs": [],
      "source": [
        "scaler = StandardScaler()\n",
        "X_scaled_train = scaler.fit_transform(X_pca_train)\n",
        "X_scaled_test = scaler.transform(X_pca_test)"
      ]
    },
    {
      "cell_type": "code",
      "execution_count": 58,
      "metadata": {
        "colab": {
          "base_uri": "https://localhost:8080/"
        },
        "id": "LWE8P7xF95CL",
        "outputId": "52d82f47-0007-4aa3-90f6-97ad7e8c97a7"
      },
      "outputs": [
        {
          "data": {
            "text/plain": [
              "['/content/scaler.joblib']"
            ]
          },
          "execution_count": 58,
          "metadata": {},
          "output_type": "execute_result"
        }
      ],
      "source": [
        "import joblib\n",
        "\n",
        "joblib.dump(pca, '/content/pca.joblib')\n",
        "joblib.dump(scaler, '/content/scaler.joblib')"
      ]
    },
    {
      "cell_type": "markdown",
      "metadata": {
        "id": "uD3MbZK3CKjo"
      },
      "source": [
        "# **HyperOPT**"
      ]
    },
    {
      "cell_type": "code",
      "execution_count": 13,
      "metadata": {
        "id": "wDOoyhaJYOHG"
      },
      "outputs": [],
      "source": [
        "!pip install hyperopt"
      ]
    },
    {
      "cell_type": "markdown",
      "metadata": {
        "id": "ipvP43lnCQhZ"
      },
      "source": [
        "# XGBClassifier"
      ]
    },
    {
      "cell_type": "code",
      "execution_count": 34,
      "metadata": {
        "colab": {
          "base_uri": "https://localhost:8080/"
        },
        "id": "U1jrgVLiSc9A",
        "outputId": "18b095a1-cddb-4850-83f7-9988fa05e9de"
      },
      "outputs": [
        {
          "data": {
            "text/plain": [
              "{'learning_rate': <hyperopt.pyll.base.Apply at 0x7fdd735d5b40>,\n",
              " 'max_depth': <hyperopt.pyll.base.Apply at 0x7fdd7359a290>,\n",
              " 'min_child_weight': <hyperopt.pyll.base.Apply at 0x7fdd7353e3b0>,\n",
              " 'subsample': <hyperopt.pyll.base.Apply at 0x7fdd7353e200>,\n",
              " 'gamma': <hyperopt.pyll.base.Apply at 0x7fdd7353e650>,\n",
              " 'colsample_bytree': <hyperopt.pyll.base.Apply at 0x7fdd7353dfc0>,\n",
              " 'n_estimators': <hyperopt.pyll.base.Apply at 0x7fdd7353dae0>}"
            ]
          },
          "execution_count": 34,
          "metadata": {},
          "output_type": "execute_result"
        }
      ],
      "source": [
        "from hyperopt import hp,fmin,tpe,STATUS_OK,Trials,space_eval\n",
        "\n",
        "space = {\n",
        "    'learning_rate': hp.uniform('learning_rate', 0.01, 0.3),\n",
        "    'max_depth': hp.choice('max_depth', range(3, 15)),\n",
        "    'min_child_weight': hp.quniform('min_child_weight', 1, 10, 1),\n",
        "    'subsample': hp.uniform('subsample', 0.5, 1),\n",
        "    'gamma': hp.uniform('gamma', 0, 1),\n",
        "    'colsample_bytree': hp.uniform('colsample_bytree', 0.5, 1),\n",
        "    'n_estimators': hp.choice('n_estimators', range(50, 500)),\n",
        "}\n",
        "\n",
        "space"
      ]
    },
    {
      "cell_type": "code",
      "execution_count": 35,
      "metadata": {
        "id": "LEwTtlv2Ys29"
      },
      "outputs": [],
      "source": [
        "from xgboost import XGBClassifier\n",
        "from sklearn.model_selection import cross_val_score\n",
        "\n",
        "def objective(space):\n",
        "  model = XGBClassifier(\n",
        "      learning_rate = space['learning_rate'],\n",
        "      max_depth = space['max_depth'],\n",
        "      min_child_weight = space['min_child_weight'],\n",
        "      subsample = space['subsample'],\n",
        "      gamma = space['gamma'],\n",
        "      colsample_bytree = space['colsample_bytree'],\n",
        "      n_estimators = space['n_estimators']\n",
        "  )\n",
        "  accuracy = cross_val_score(model, X_scaled_train, y_train, cv = 5).mean()\n",
        "\n",
        "  # We aim to maximize accuracy, therefore we return it as a negative value\n",
        "  return {'loss': accuracy, 'status': STATUS_OK }"
      ]
    },
    {
      "cell_type": "code",
      "execution_count": 36,
      "metadata": {
        "colab": {
          "base_uri": "https://localhost:8080/"
        },
        "id": "2YIlcyaDHIQ7",
        "outputId": "81d9291b-ad3e-46cf-f404-da0a04db86be"
      },
      "outputs": [
        {
          "name": "stdout",
          "output_type": "stream",
          "text": [
            "100%|██████████| 80/80 [14:39<00:00, 11.00s/trial, best loss: 0.9078620689655172]\n"
          ]
        },
        {
          "data": {
            "text/plain": [
              "{'colsample_bytree': 0.885851504127611,\n",
              " 'gamma': 0.6411482852494903,\n",
              " 'learning_rate': 0.034930371583044684,\n",
              " 'max_depth': 0,\n",
              " 'min_child_weight': 8.0,\n",
              " 'n_estimators': 33,\n",
              " 'subsample': 0.9191185596390956}"
            ]
          },
          "execution_count": 36,
          "metadata": {},
          "output_type": "execute_result"
        }
      ],
      "source": [
        "trials = Trials()\n",
        "best = fmin(fn= objective,\n",
        "            space= space,\n",
        "            algo= tpe.suggest,\n",
        "            max_evals = 80,\n",
        "            trials= trials)\n",
        "best"
      ]
    },
    {
      "cell_type": "code",
      "execution_count": 37,
      "metadata": {
        "colab": {
          "base_uri": "https://localhost:8080/"
        },
        "id": "IFtCdMS2aLHb",
        "outputId": "e255aec2-88c3-4681-b05a-e40bddd75314"
      },
      "outputs": [
        {
          "name": "stdout",
          "output_type": "stream",
          "text": [
            "Best Hyperparameters:\n",
            "{'colsample_bytree': 0.885851504127611, 'gamma': 0.6411482852494903, 'learning_rate': 0.034930371583044684, 'max_depth': 3, 'min_child_weight': 8.0, 'n_estimators': 83, 'subsample': 0.9191185596390956}\n"
          ]
        }
      ],
      "source": [
        "# Retrieve the best parameters\n",
        "best_params = space_eval(space, best)\n",
        "print(\"Best Hyperparameters:\")\n",
        "print(best_params)"
      ]
    },
    {
      "cell_type": "code",
      "execution_count": 46,
      "metadata": {
        "colab": {
          "base_uri": "https://localhost:8080/"
        },
        "id": "o7vVZdSCfqG_",
        "outputId": "a57575ba-57c3-4042-90db-86cdd7e50134"
      },
      "outputs": [
        {
          "name": "stdout",
          "output_type": "stream",
          "text": [
            "Testing Data\n",
            "Accuracy of XGBClassifier using HyperOPT: 0.9100689655172414\n",
            "Precision: 0.8786370102159576\n",
            "Recall: 0.9489525139664804\n",
            "F2 Score: 0.9340032441646275\n",
            "Trainind Data\n",
            "Accuracy of XGBClassifier using HyperOPT: 0.9079080459770115\n",
            "Precision: 0.8778389830508475\n",
            "Recall: 0.948580586080586\n",
            "F2 Score: 0.9335346070656092\n"
          ]
        }
      ],
      "source": [
        "from xgboost import XGBClassifier\n",
        "from sklearn.metrics import accuracy_score , precision_score, fbeta_score, confusion_matrix\n",
        "\n",
        "xgb_hyp = XGBClassifier(\n",
        "    learning_rate=best_params['learning_rate'],\n",
        "    n_estimators =best_params['n_estimators'],\n",
        "    max_depth=best_params['max_depth'],\n",
        "    min_child_weight=best_params['min_child_weight'],\n",
        "    subsample=best_params['subsample'],\n",
        "    colsample_bytree=best_params['colsample_bytree']\n",
        ")\n",
        "\n",
        "xgb_hyp.fit(X_scaled_train, y_train)\n",
        "\n",
        "# Evaluate the performance of the XGBoost classifier\n",
        "y_pred_xgb_hyp = xgb_hyp.predict(X_scaled_test)\n",
        "score_xgb_hyp = accuracy_score(y_test, y_pred_xgb_hyp)\n",
        "\n",
        "y_true = y_test\n",
        "y_pred = y_pred_xgb_hyp\n",
        "\n",
        "# Assuming y_true contains the true labels and y_pred contains the predicted labels\n",
        "precision = precision_score(y_true, y_pred)\n",
        "conf_matrix = confusion_matrix(y_true, y_pred)\n",
        "recall = conf_matrix[1, 1] / (conf_matrix[1, 1] + conf_matrix[1, 0])\n",
        "f2_score = fbeta_score(y_true, y_pred, beta=2)\n",
        "print('Testing Data')\n",
        "print('Accuracy of XGBClassifier using HyperOPT:', score_xgb_hyp)\n",
        "print(f'Precision: {precision}')\n",
        "print(f'Recall: {recall}')\n",
        "print(f'F2 Score: {f2_score}')\n",
        "\n",
        "y_true = y_train\n",
        "y_pred = xgb_hyp.predict(X_scaled_train)\n",
        "\n",
        "# Assuming y_true contains the true labels and y_pred contains the predicted labels\n",
        "accuracy = accuracy_score(y_true,y_pred)\n",
        "precision = precision_score(y_true, y_pred)\n",
        "conf_matrix = confusion_matrix(y_true, y_pred)\n",
        "recall = conf_matrix[1, 1] / (conf_matrix[1, 1] + conf_matrix[1, 0])\n",
        "f2_score = fbeta_score(y_true, y_pred, beta=2)\n",
        "print('Trainind Data')\n",
        "print('Accuracy of XGBClassifier using HyperOPT:', accuracy)\n",
        "print(f'Precision: {precision}')\n",
        "print(f'Recall: {recall}')\n",
        "print(f'F2 Score: {f2_score}')"
      ]
    },
    {
      "cell_type": "code",
      "execution_count": 47,
      "metadata": {
        "colab": {
          "base_uri": "https://localhost:8080/"
        },
        "id": "Wr7bv5KWh5L_",
        "outputId": "bc1c23ef-7558-4969-c9e7-ea6fdfca42e6"
      },
      "outputs": [
        {
          "name": "stdout",
          "output_type": "stream",
          "text": [
            "Accuracy   0.8419984653423139\n",
            "Precision: 0.8364649230478708\n",
            "Recall: 0.8671974418377003\n",
            "F2 Score: 0.8608715932133117\n"
          ]
        }
      ],
      "source": [
        "df3 = pd.read_csv('/content/dataset_small.csv')\n",
        "df3 = df3[list(df2.columns)]\n",
        "X2 = df3.drop(columns='phishing',axis=1)\n",
        "Y2 = df3['phishing']\n",
        "X2 = pca.fit_transform(X2)\n",
        "X2 = scaler.transform(X2)\n",
        "ypred2 = xgb_hyp.predict(X2)\n",
        "accuracy = accuracy_score(Y2,ypred2)\n",
        "print('Accuracy  ' ,accuracy)\n",
        "y_true = Y2\n",
        "y_pred = ypred2\n",
        "from sklearn.metrics import precision_score, fbeta_score, confusion_matrix\n",
        "\n",
        "# Assuming y_true contains the true labels and y_pred contains the predicted labels\n",
        "precision = precision_score(y_true, y_pred)\n",
        "conf_matrix = confusion_matrix(y_true, y_pred)\n",
        "recall = conf_matrix[1, 1] / (conf_matrix[1, 1] + conf_matrix[1, 0])\n",
        "f2_score = fbeta_score(y_true, y_pred, beta=2)\n",
        "\n",
        "print(f'Precision: {precision}')\n",
        "print(f'Recall: {recall}')\n",
        "print(f'F2 Score: {f2_score}')"
      ]
    },
    {
      "cell_type": "code",
      "execution_count": 55,
      "metadata": {
        "colab": {
          "base_uri": "https://localhost:8080/"
        },
        "id": "q4kJr4SA87GZ",
        "outputId": "17548830-6ce5-4bb1-8898-1940563afb44"
      },
      "outputs": [
        {
          "data": {
            "text/plain": [
              "['/content/xgb_hyp.joblib']"
            ]
          },
          "execution_count": 55,
          "metadata": {},
          "output_type": "execute_result"
        }
      ],
      "source": [
        "import joblib\n",
        "\n",
        "joblib.dump(xgb_hyp, '/content/xgb_hyp.joblib')\n"
      ]
    },
    {
      "cell_type": "markdown",
      "metadata": {
        "id": "4MuSA1eECgOT"
      },
      "source": [
        "# Random Forest Classifier"
      ]
    },
    {
      "cell_type": "code",
      "execution_count": null,
      "metadata": {
        "id": "3GI2lL--CmFx"
      },
      "outputs": [],
      "source": [
        "space = {\n",
        "    'criterion': hp.choice('criterion', ['entropy', 'gini']),\n",
        "    'max_depth': hp.quniform('max_depth', 10, 1200, 10),\n",
        "    'max_features': hp.choice('max_features', ['auto', 'sqrt', 'log2', None]),\n",
        "    'min_samples_leaf': hp.uniform('min_samples_leaf', 0, 0.5),\n",
        "    'min_samples_split': hp.uniform('min_samples_split', 0, 1),\n",
        "    'n_estimators': hp.choice('n_estimators', [10, 50, 300, 750, 1200, 1300, 1500])\n",
        "}"
      ]
    },
    {
      "cell_type": "code",
      "execution_count": null,
      "metadata": {
        "id": "wWGZevOKCmCV"
      },
      "outputs": [],
      "source": [
        "from sklearn.ensemble import RandomForestClassifier\n",
        "\n",
        "def objective(space):\n",
        "    # Round 'max_depth' to an integer\n",
        "    space['max_depth'] = int(space['max_depth'])\n",
        "\n",
        "    model = RandomForestClassifier(\n",
        "        criterion=space['criterion'],\n",
        "        max_depth=space['max_depth'],\n",
        "        max_features=space['max_features'],\n",
        "        min_samples_leaf=space['min_samples_leaf'],\n",
        "        min_samples_split=space['min_samples_split'],\n",
        "        n_estimators=space['n_estimators']\n",
        "    )\n",
        "\n",
        "    accuracy = cross_val_score(model, X_pca_train, y_train, cv=5).mean()\n",
        "\n",
        "    # We aim to maximize accuracy, therefore we return it as a negative value\n",
        "    return {'loss': -accuracy, 'status': STATUS_OK }"
      ]
    },
    {
      "cell_type": "code",
      "execution_count": null,
      "metadata": {
        "colab": {
          "base_uri": "https://localhost:8080/"
        },
        "id": "RkvkVMYVCl_S",
        "outputId": "8dd5ca1f-ff78-42a8-9575-c956c61d9372"
      },
      "outputs": [
        {
          "name": "stdout",
          "output_type": "stream",
          "text": [
            "  1%|▏         | 1/80 [00:01<02:32,  1.93s/trial, best loss: -0.5226337444092287]"
          ]
        },
        {
          "name": "stderr",
          "output_type": "stream",
          "text": [
            "/usr/local/lib/python3.10/dist-packages/sklearn/ensemble/_forest.py:424: FutureWarning: `max_features='auto'` has been deprecated in 1.1 and will be removed in 1.3. To keep the past behaviour, explicitly set `max_features='sqrt'` or remove this parameter as it is also the default value for RandomForestClassifiers and ExtraTreesClassifiers.\n",
            "  warn(\n",
            "\n",
            "/usr/local/lib/python3.10/dist-packages/sklearn/ensemble/_forest.py:424: FutureWarning: `max_features='auto'` has been deprecated in 1.1 and will be removed in 1.3. To keep the past behaviour, explicitly set `max_features='sqrt'` or remove this parameter as it is also the default value for RandomForestClassifiers and ExtraTreesClassifiers.\n",
            "  warn(\n",
            "\n",
            "/usr/local/lib/python3.10/dist-packages/sklearn/ensemble/_forest.py:424: FutureWarning: `max_features='auto'` has been deprecated in 1.1 and will be removed in 1.3. To keep the past behaviour, explicitly set `max_features='sqrt'` or remove this parameter as it is also the default value for RandomForestClassifiers and ExtraTreesClassifiers.\n",
            "  warn(\n",
            "\n"
          ]
        },
        {
          "name": "stdout",
          "output_type": "stream",
          "text": [
            "\r  2%|▎         | 2/80 [00:02<01:24,  1.08s/trial, best loss: -0.5226337444092287]"
          ]
        },
        {
          "name": "stderr",
          "output_type": "stream",
          "text": [
            "/usr/local/lib/python3.10/dist-packages/sklearn/ensemble/_forest.py:424: FutureWarning: `max_features='auto'` has been deprecated in 1.1 and will be removed in 1.3. To keep the past behaviour, explicitly set `max_features='sqrt'` or remove this parameter as it is also the default value for RandomForestClassifiers and ExtraTreesClassifiers.\n",
            "  warn(\n",
            "\n",
            "/usr/local/lib/python3.10/dist-packages/sklearn/ensemble/_forest.py:424: FutureWarning: `max_features='auto'` has been deprecated in 1.1 and will be removed in 1.3. To keep the past behaviour, explicitly set `max_features='sqrt'` or remove this parameter as it is also the default value for RandomForestClassifiers and ExtraTreesClassifiers.\n",
            "  warn(\n",
            "\n"
          ]
        },
        {
          "name": "stdout",
          "output_type": "stream",
          "text": [
            "  5%|▌         | 4/80 [06:22<3:10:13, 150.18s/trial, best loss: -0.8311620093728468]"
          ]
        },
        {
          "name": "stderr",
          "output_type": "stream",
          "text": [
            "/usr/local/lib/python3.10/dist-packages/sklearn/ensemble/_forest.py:424: FutureWarning: `max_features='auto'` has been deprecated in 1.1 and will be removed in 1.3. To keep the past behaviour, explicitly set `max_features='sqrt'` or remove this parameter as it is also the default value for RandomForestClassifiers and ExtraTreesClassifiers.\n",
            "  warn(\n",
            "\n",
            "/usr/local/lib/python3.10/dist-packages/sklearn/ensemble/_forest.py:424: FutureWarning: `max_features='auto'` has been deprecated in 1.1 and will be removed in 1.3. To keep the past behaviour, explicitly set `max_features='sqrt'` or remove this parameter as it is also the default value for RandomForestClassifiers and ExtraTreesClassifiers.\n",
            "  warn(\n",
            "\n",
            "/usr/local/lib/python3.10/dist-packages/sklearn/ensemble/_forest.py:424: FutureWarning: `max_features='auto'` has been deprecated in 1.1 and will be removed in 1.3. To keep the past behaviour, explicitly set `max_features='sqrt'` or remove this parameter as it is also the default value for RandomForestClassifiers and ExtraTreesClassifiers.\n",
            "  warn(\n",
            "\n",
            "/usr/local/lib/python3.10/dist-packages/sklearn/ensemble/_forest.py:424: FutureWarning: `max_features='auto'` has been deprecated in 1.1 and will be removed in 1.3. To keep the past behaviour, explicitly set `max_features='sqrt'` or remove this parameter as it is also the default value for RandomForestClassifiers and ExtraTreesClassifiers.\n",
            "  warn(\n",
            "\n",
            "/usr/local/lib/python3.10/dist-packages/sklearn/ensemble/_forest.py:424: FutureWarning: `max_features='auto'` has been deprecated in 1.1 and will be removed in 1.3. To keep the past behaviour, explicitly set `max_features='sqrt'` or remove this parameter as it is also the default value for RandomForestClassifiers and ExtraTreesClassifiers.\n",
            "  warn(\n",
            "\n"
          ]
        },
        {
          "name": "stdout",
          "output_type": "stream",
          "text": [
            " 12%|█▎        | 10/80 [09:08<45:23, 38.91s/trial, best loss: -0.8311620093728468]"
          ]
        },
        {
          "name": "stderr",
          "output_type": "stream",
          "text": [
            "/usr/local/lib/python3.10/dist-packages/sklearn/ensemble/_forest.py:424: FutureWarning: `max_features='auto'` has been deprecated in 1.1 and will be removed in 1.3. To keep the past behaviour, explicitly set `max_features='sqrt'` or remove this parameter as it is also the default value for RandomForestClassifiers and ExtraTreesClassifiers.\n",
            "  warn(\n",
            "\n",
            "/usr/local/lib/python3.10/dist-packages/sklearn/ensemble/_forest.py:424: FutureWarning: `max_features='auto'` has been deprecated in 1.1 and will be removed in 1.3. To keep the past behaviour, explicitly set `max_features='sqrt'` or remove this parameter as it is also the default value for RandomForestClassifiers and ExtraTreesClassifiers.\n",
            "  warn(\n",
            "\n",
            "/usr/local/lib/python3.10/dist-packages/sklearn/ensemble/_forest.py:424: FutureWarning: `max_features='auto'` has been deprecated in 1.1 and will be removed in 1.3. To keep the past behaviour, explicitly set `max_features='sqrt'` or remove this parameter as it is also the default value for RandomForestClassifiers and ExtraTreesClassifiers.\n",
            "  warn(\n",
            "\n",
            "/usr/local/lib/python3.10/dist-packages/sklearn/ensemble/_forest.py:424: FutureWarning: `max_features='auto'` has been deprecated in 1.1 and will be removed in 1.3. To keep the past behaviour, explicitly set `max_features='sqrt'` or remove this parameter as it is also the default value for RandomForestClassifiers and ExtraTreesClassifiers.\n",
            "  warn(\n",
            "\n",
            "/usr/local/lib/python3.10/dist-packages/sklearn/ensemble/_forest.py:424: FutureWarning: `max_features='auto'` has been deprecated in 1.1 and will be removed in 1.3. To keep the past behaviour, explicitly set `max_features='sqrt'` or remove this parameter as it is also the default value for RandomForestClassifiers and ExtraTreesClassifiers.\n",
            "  warn(\n",
            "\n"
          ]
        },
        {
          "name": "stdout",
          "output_type": "stream",
          "text": [
            "\r 14%|█▍        | 11/80 [09:12<32:15, 28.05s/trial, best loss: -0.8311620093728468]"
          ]
        },
        {
          "name": "stderr",
          "output_type": "stream",
          "text": [
            "/usr/local/lib/python3.10/dist-packages/sklearn/ensemble/_forest.py:424: FutureWarning: `max_features='auto'` has been deprecated in 1.1 and will be removed in 1.3. To keep the past behaviour, explicitly set `max_features='sqrt'` or remove this parameter as it is also the default value for RandomForestClassifiers and ExtraTreesClassifiers.\n",
            "  warn(\n",
            "\n",
            "/usr/local/lib/python3.10/dist-packages/sklearn/ensemble/_forest.py:424: FutureWarning: `max_features='auto'` has been deprecated in 1.1 and will be removed in 1.3. To keep the past behaviour, explicitly set `max_features='sqrt'` or remove this parameter as it is also the default value for RandomForestClassifiers and ExtraTreesClassifiers.\n",
            "  warn(\n",
            "\n",
            "/usr/local/lib/python3.10/dist-packages/sklearn/ensemble/_forest.py:424: FutureWarning: `max_features='auto'` has been deprecated in 1.1 and will be removed in 1.3. To keep the past behaviour, explicitly set `max_features='sqrt'` or remove this parameter as it is also the default value for RandomForestClassifiers and ExtraTreesClassifiers.\n",
            "  warn(\n",
            "\n",
            "/usr/local/lib/python3.10/dist-packages/sklearn/ensemble/_forest.py:424: FutureWarning: `max_features='auto'` has been deprecated in 1.1 and will be removed in 1.3. To keep the past behaviour, explicitly set `max_features='sqrt'` or remove this parameter as it is also the default value for RandomForestClassifiers and ExtraTreesClassifiers.\n",
            "  warn(\n",
            "\n",
            "/usr/local/lib/python3.10/dist-packages/sklearn/ensemble/_forest.py:424: FutureWarning: `max_features='auto'` has been deprecated in 1.1 and will be removed in 1.3. To keep the past behaviour, explicitly set `max_features='sqrt'` or remove this parameter as it is also the default value for RandomForestClassifiers and ExtraTreesClassifiers.\n",
            "  warn(\n",
            "\n"
          ]
        },
        {
          "name": "stdout",
          "output_type": "stream",
          "text": [
            " 38%|███▊      | 30/80 [33:39<1:03:15, 75.91s/trial, best loss: -0.849782830901208]"
          ]
        },
        {
          "name": "stderr",
          "output_type": "stream",
          "text": [
            "/usr/local/lib/python3.10/dist-packages/sklearn/ensemble/_forest.py:424: FutureWarning: `max_features='auto'` has been deprecated in 1.1 and will be removed in 1.3. To keep the past behaviour, explicitly set `max_features='sqrt'` or remove this parameter as it is also the default value for RandomForestClassifiers and ExtraTreesClassifiers.\n",
            "  warn(\n",
            "\n",
            "/usr/local/lib/python3.10/dist-packages/sklearn/ensemble/_forest.py:424: FutureWarning: `max_features='auto'` has been deprecated in 1.1 and will be removed in 1.3. To keep the past behaviour, explicitly set `max_features='sqrt'` or remove this parameter as it is also the default value for RandomForestClassifiers and ExtraTreesClassifiers.\n",
            "  warn(\n",
            "\n",
            "/usr/local/lib/python3.10/dist-packages/sklearn/ensemble/_forest.py:424: FutureWarning: `max_features='auto'` has been deprecated in 1.1 and will be removed in 1.3. To keep the past behaviour, explicitly set `max_features='sqrt'` or remove this parameter as it is also the default value for RandomForestClassifiers and ExtraTreesClassifiers.\n",
            "  warn(\n",
            "\n",
            "/usr/local/lib/python3.10/dist-packages/sklearn/ensemble/_forest.py:424: FutureWarning: `max_features='auto'` has been deprecated in 1.1 and will be removed in 1.3. To keep the past behaviour, explicitly set `max_features='sqrt'` or remove this parameter as it is also the default value for RandomForestClassifiers and ExtraTreesClassifiers.\n",
            "  warn(\n",
            "\n",
            "/usr/local/lib/python3.10/dist-packages/sklearn/ensemble/_forest.py:424: FutureWarning: `max_features='auto'` has been deprecated in 1.1 and will be removed in 1.3. To keep the past behaviour, explicitly set `max_features='sqrt'` or remove this parameter as it is also the default value for RandomForestClassifiers and ExtraTreesClassifiers.\n",
            "  warn(\n",
            "\n"
          ]
        },
        {
          "name": "stdout",
          "output_type": "stream",
          "text": [
            "\r 39%|███▉      | 31/80 [36:55<1:31:24, 111.93s/trial, best loss: -0.849782830901208]"
          ]
        },
        {
          "name": "stderr",
          "output_type": "stream",
          "text": [
            "/usr/local/lib/python3.10/dist-packages/sklearn/ensemble/_forest.py:424: FutureWarning: `max_features='auto'` has been deprecated in 1.1 and will be removed in 1.3. To keep the past behaviour, explicitly set `max_features='sqrt'` or remove this parameter as it is also the default value for RandomForestClassifiers and ExtraTreesClassifiers.\n",
            "  warn(\n",
            "\n",
            "/usr/local/lib/python3.10/dist-packages/sklearn/ensemble/_forest.py:424: FutureWarning: `max_features='auto'` has been deprecated in 1.1 and will be removed in 1.3. To keep the past behaviour, explicitly set `max_features='sqrt'` or remove this parameter as it is also the default value for RandomForestClassifiers and ExtraTreesClassifiers.\n",
            "  warn(\n",
            "\n",
            "/usr/local/lib/python3.10/dist-packages/sklearn/ensemble/_forest.py:424: FutureWarning: `max_features='auto'` has been deprecated in 1.1 and will be removed in 1.3. To keep the past behaviour, explicitly set `max_features='sqrt'` or remove this parameter as it is also the default value for RandomForestClassifiers and ExtraTreesClassifiers.\n",
            "  warn(\n",
            "\n",
            "/usr/local/lib/python3.10/dist-packages/sklearn/ensemble/_forest.py:424: FutureWarning: `max_features='auto'` has been deprecated in 1.1 and will be removed in 1.3. To keep the past behaviour, explicitly set `max_features='sqrt'` or remove this parameter as it is also the default value for RandomForestClassifiers and ExtraTreesClassifiers.\n",
            "  warn(\n",
            "\n",
            "/usr/local/lib/python3.10/dist-packages/sklearn/ensemble/_forest.py:424: FutureWarning: `max_features='auto'` has been deprecated in 1.1 and will be removed in 1.3. To keep the past behaviour, explicitly set `max_features='sqrt'` or remove this parameter as it is also the default value for RandomForestClassifiers and ExtraTreesClassifiers.\n",
            "  warn(\n",
            "\n"
          ]
        },
        {
          "name": "stdout",
          "output_type": "stream",
          "text": [
            "\r 40%|████      | 32/80 [38:23<1:23:56, 104.92s/trial, best loss: -0.849782830901208]"
          ]
        },
        {
          "name": "stderr",
          "output_type": "stream",
          "text": [
            "/usr/local/lib/python3.10/dist-packages/sklearn/ensemble/_forest.py:424: FutureWarning: `max_features='auto'` has been deprecated in 1.1 and will be removed in 1.3. To keep the past behaviour, explicitly set `max_features='sqrt'` or remove this parameter as it is also the default value for RandomForestClassifiers and ExtraTreesClassifiers.\n",
            "  warn(\n",
            "\n",
            "/usr/local/lib/python3.10/dist-packages/sklearn/ensemble/_forest.py:424: FutureWarning: `max_features='auto'` has been deprecated in 1.1 and will be removed in 1.3. To keep the past behaviour, explicitly set `max_features='sqrt'` or remove this parameter as it is also the default value for RandomForestClassifiers and ExtraTreesClassifiers.\n",
            "  warn(\n",
            "\n",
            "/usr/local/lib/python3.10/dist-packages/sklearn/ensemble/_forest.py:424: FutureWarning: `max_features='auto'` has been deprecated in 1.1 and will be removed in 1.3. To keep the past behaviour, explicitly set `max_features='sqrt'` or remove this parameter as it is also the default value for RandomForestClassifiers and ExtraTreesClassifiers.\n",
            "  warn(\n",
            "\n",
            "/usr/local/lib/python3.10/dist-packages/sklearn/ensemble/_forest.py:424: FutureWarning: `max_features='auto'` has been deprecated in 1.1 and will be removed in 1.3. To keep the past behaviour, explicitly set `max_features='sqrt'` or remove this parameter as it is also the default value for RandomForestClassifiers and ExtraTreesClassifiers.\n",
            "  warn(\n",
            "\n",
            "/usr/local/lib/python3.10/dist-packages/sklearn/ensemble/_forest.py:424: FutureWarning: `max_features='auto'` has been deprecated in 1.1 and will be removed in 1.3. To keep the past behaviour, explicitly set `max_features='sqrt'` or remove this parameter as it is also the default value for RandomForestClassifiers and ExtraTreesClassifiers.\n",
            "  warn(\n",
            "\n"
          ]
        },
        {
          "name": "stdout",
          "output_type": "stream",
          "text": [
            "\r 41%|████▏     | 33/80 [38:57<1:05:20, 83.41s/trial, best loss: -0.849782830901208] "
          ]
        },
        {
          "name": "stderr",
          "output_type": "stream",
          "text": [
            "/usr/local/lib/python3.10/dist-packages/sklearn/ensemble/_forest.py:424: FutureWarning: `max_features='auto'` has been deprecated in 1.1 and will be removed in 1.3. To keep the past behaviour, explicitly set `max_features='sqrt'` or remove this parameter as it is also the default value for RandomForestClassifiers and ExtraTreesClassifiers.\n",
            "  warn(\n",
            "\n",
            "/usr/local/lib/python3.10/dist-packages/sklearn/ensemble/_forest.py:424: FutureWarning: `max_features='auto'` has been deprecated in 1.1 and will be removed in 1.3. To keep the past behaviour, explicitly set `max_features='sqrt'` or remove this parameter as it is also the default value for RandomForestClassifiers and ExtraTreesClassifiers.\n",
            "  warn(\n",
            "\n",
            "/usr/local/lib/python3.10/dist-packages/sklearn/ensemble/_forest.py:424: FutureWarning: `max_features='auto'` has been deprecated in 1.1 and will be removed in 1.3. To keep the past behaviour, explicitly set `max_features='sqrt'` or remove this parameter as it is also the default value for RandomForestClassifiers and ExtraTreesClassifiers.\n",
            "  warn(\n",
            "\n",
            "/usr/local/lib/python3.10/dist-packages/sklearn/ensemble/_forest.py:424: FutureWarning: `max_features='auto'` has been deprecated in 1.1 and will be removed in 1.3. To keep the past behaviour, explicitly set `max_features='sqrt'` or remove this parameter as it is also the default value for RandomForestClassifiers and ExtraTreesClassifiers.\n",
            "  warn(\n",
            "\n",
            "/usr/local/lib/python3.10/dist-packages/sklearn/ensemble/_forest.py:424: FutureWarning: `max_features='auto'` has been deprecated in 1.1 and will be removed in 1.3. To keep the past behaviour, explicitly set `max_features='sqrt'` or remove this parameter as it is also the default value for RandomForestClassifiers and ExtraTreesClassifiers.\n",
            "  warn(\n",
            "\n"
          ]
        },
        {
          "name": "stdout",
          "output_type": "stream",
          "text": [
            "\r 42%|████▎     | 34/80 [42:10<1:29:11, 116.35s/trial, best loss: -0.849782830901208]"
          ]
        },
        {
          "name": "stderr",
          "output_type": "stream",
          "text": [
            "/usr/local/lib/python3.10/dist-packages/sklearn/ensemble/_forest.py:424: FutureWarning: `max_features='auto'` has been deprecated in 1.1 and will be removed in 1.3. To keep the past behaviour, explicitly set `max_features='sqrt'` or remove this parameter as it is also the default value for RandomForestClassifiers and ExtraTreesClassifiers.\n",
            "  warn(\n",
            "\n",
            "/usr/local/lib/python3.10/dist-packages/sklearn/ensemble/_forest.py:424: FutureWarning: `max_features='auto'` has been deprecated in 1.1 and will be removed in 1.3. To keep the past behaviour, explicitly set `max_features='sqrt'` or remove this parameter as it is also the default value for RandomForestClassifiers and ExtraTreesClassifiers.\n",
            "  warn(\n",
            "\n",
            "/usr/local/lib/python3.10/dist-packages/sklearn/ensemble/_forest.py:424: FutureWarning: `max_features='auto'` has been deprecated in 1.1 and will be removed in 1.3. To keep the past behaviour, explicitly set `max_features='sqrt'` or remove this parameter as it is also the default value for RandomForestClassifiers and ExtraTreesClassifiers.\n",
            "  warn(\n",
            "\n",
            "/usr/local/lib/python3.10/dist-packages/sklearn/ensemble/_forest.py:424: FutureWarning: `max_features='auto'` has been deprecated in 1.1 and will be removed in 1.3. To keep the past behaviour, explicitly set `max_features='sqrt'` or remove this parameter as it is also the default value for RandomForestClassifiers and ExtraTreesClassifiers.\n",
            "  warn(\n",
            "\n",
            "/usr/local/lib/python3.10/dist-packages/sklearn/ensemble/_forest.py:424: FutureWarning: `max_features='auto'` has been deprecated in 1.1 and will be removed in 1.3. To keep the past behaviour, explicitly set `max_features='sqrt'` or remove this parameter as it is also the default value for RandomForestClassifiers and ExtraTreesClassifiers.\n",
            "  warn(\n",
            "\n"
          ]
        },
        {
          "name": "stdout",
          "output_type": "stream",
          "text": [
            "\r 44%|████▍     | 35/80 [42:42<1:08:26, 91.26s/trial, best loss: -0.849782830901208] "
          ]
        },
        {
          "name": "stderr",
          "output_type": "stream",
          "text": [
            "/usr/local/lib/python3.10/dist-packages/sklearn/ensemble/_forest.py:424: FutureWarning: `max_features='auto'` has been deprecated in 1.1 and will be removed in 1.3. To keep the past behaviour, explicitly set `max_features='sqrt'` or remove this parameter as it is also the default value for RandomForestClassifiers and ExtraTreesClassifiers.\n",
            "  warn(\n",
            "\n",
            "/usr/local/lib/python3.10/dist-packages/sklearn/ensemble/_forest.py:424: FutureWarning: `max_features='auto'` has been deprecated in 1.1 and will be removed in 1.3. To keep the past behaviour, explicitly set `max_features='sqrt'` or remove this parameter as it is also the default value for RandomForestClassifiers and ExtraTreesClassifiers.\n",
            "  warn(\n",
            "\n",
            "/usr/local/lib/python3.10/dist-packages/sklearn/ensemble/_forest.py:424: FutureWarning: `max_features='auto'` has been deprecated in 1.1 and will be removed in 1.3. To keep the past behaviour, explicitly set `max_features='sqrt'` or remove this parameter as it is also the default value for RandomForestClassifiers and ExtraTreesClassifiers.\n",
            "  warn(\n",
            "\n",
            "/usr/local/lib/python3.10/dist-packages/sklearn/ensemble/_forest.py:424: FutureWarning: `max_features='auto'` has been deprecated in 1.1 and will be removed in 1.3. To keep the past behaviour, explicitly set `max_features='sqrt'` or remove this parameter as it is also the default value for RandomForestClassifiers and ExtraTreesClassifiers.\n",
            "  warn(\n",
            "\n",
            "/usr/local/lib/python3.10/dist-packages/sklearn/ensemble/_forest.py:424: FutureWarning: `max_features='auto'` has been deprecated in 1.1 and will be removed in 1.3. To keep the past behaviour, explicitly set `max_features='sqrt'` or remove this parameter as it is also the default value for RandomForestClassifiers and ExtraTreesClassifiers.\n",
            "  warn(\n",
            "\n"
          ]
        },
        {
          "name": "stdout",
          "output_type": "stream",
          "text": [
            "\r 45%|████▌     | 36/80 [44:50<1:14:50, 102.07s/trial, best loss: -0.849782830901208]"
          ]
        },
        {
          "name": "stderr",
          "output_type": "stream",
          "text": [
            "/usr/local/lib/python3.10/dist-packages/sklearn/ensemble/_forest.py:424: FutureWarning: `max_features='auto'` has been deprecated in 1.1 and will be removed in 1.3. To keep the past behaviour, explicitly set `max_features='sqrt'` or remove this parameter as it is also the default value for RandomForestClassifiers and ExtraTreesClassifiers.\n",
            "  warn(\n",
            "\n",
            "/usr/local/lib/python3.10/dist-packages/sklearn/ensemble/_forest.py:424: FutureWarning: `max_features='auto'` has been deprecated in 1.1 and will be removed in 1.3. To keep the past behaviour, explicitly set `max_features='sqrt'` or remove this parameter as it is also the default value for RandomForestClassifiers and ExtraTreesClassifiers.\n",
            "  warn(\n",
            "\n",
            "/usr/local/lib/python3.10/dist-packages/sklearn/ensemble/_forest.py:424: FutureWarning: `max_features='auto'` has been deprecated in 1.1 and will be removed in 1.3. To keep the past behaviour, explicitly set `max_features='sqrt'` or remove this parameter as it is also the default value for RandomForestClassifiers and ExtraTreesClassifiers.\n",
            "  warn(\n",
            "\n",
            "/usr/local/lib/python3.10/dist-packages/sklearn/ensemble/_forest.py:424: FutureWarning: `max_features='auto'` has been deprecated in 1.1 and will be removed in 1.3. To keep the past behaviour, explicitly set `max_features='sqrt'` or remove this parameter as it is also the default value for RandomForestClassifiers and ExtraTreesClassifiers.\n",
            "  warn(\n",
            "\n",
            "/usr/local/lib/python3.10/dist-packages/sklearn/ensemble/_forest.py:424: FutureWarning: `max_features='auto'` has been deprecated in 1.1 and will be removed in 1.3. To keep the past behaviour, explicitly set `max_features='sqrt'` or remove this parameter as it is also the default value for RandomForestClassifiers and ExtraTreesClassifiers.\n",
            "  warn(\n",
            "\n"
          ]
        },
        {
          "name": "stdout",
          "output_type": "stream",
          "text": [
            " 48%|████▊     | 38/80 [48:52<1:21:15, 116.07s/trial, best loss: -0.849782830901208]"
          ]
        },
        {
          "name": "stderr",
          "output_type": "stream",
          "text": [
            "/usr/local/lib/python3.10/dist-packages/sklearn/ensemble/_forest.py:424: FutureWarning: `max_features='auto'` has been deprecated in 1.1 and will be removed in 1.3. To keep the past behaviour, explicitly set `max_features='sqrt'` or remove this parameter as it is also the default value for RandomForestClassifiers and ExtraTreesClassifiers.\n",
            "  warn(\n",
            "\n",
            "/usr/local/lib/python3.10/dist-packages/sklearn/ensemble/_forest.py:424: FutureWarning: `max_features='auto'` has been deprecated in 1.1 and will be removed in 1.3. To keep the past behaviour, explicitly set `max_features='sqrt'` or remove this parameter as it is also the default value for RandomForestClassifiers and ExtraTreesClassifiers.\n",
            "  warn(\n",
            "\n",
            "/usr/local/lib/python3.10/dist-packages/sklearn/ensemble/_forest.py:424: FutureWarning: `max_features='auto'` has been deprecated in 1.1 and will be removed in 1.3. To keep the past behaviour, explicitly set `max_features='sqrt'` or remove this parameter as it is also the default value for RandomForestClassifiers and ExtraTreesClassifiers.\n",
            "  warn(\n",
            "\n",
            "/usr/local/lib/python3.10/dist-packages/sklearn/ensemble/_forest.py:424: FutureWarning: `max_features='auto'` has been deprecated in 1.1 and will be removed in 1.3. To keep the past behaviour, explicitly set `max_features='sqrt'` or remove this parameter as it is also the default value for RandomForestClassifiers and ExtraTreesClassifiers.\n",
            "  warn(\n",
            "\n",
            "/usr/local/lib/python3.10/dist-packages/sklearn/ensemble/_forest.py:424: FutureWarning: `max_features='auto'` has been deprecated in 1.1 and will be removed in 1.3. To keep the past behaviour, explicitly set `max_features='sqrt'` or remove this parameter as it is also the default value for RandomForestClassifiers and ExtraTreesClassifiers.\n",
            "  warn(\n",
            "\n"
          ]
        },
        {
          "name": "stdout",
          "output_type": "stream",
          "text": [
            " 50%|█████     | 40/80 [49:46<46:41, 70.03s/trial, best loss: -0.849782830901208]  "
          ]
        },
        {
          "name": "stderr",
          "output_type": "stream",
          "text": [
            "/usr/local/lib/python3.10/dist-packages/sklearn/ensemble/_forest.py:424: FutureWarning: `max_features='auto'` has been deprecated in 1.1 and will be removed in 1.3. To keep the past behaviour, explicitly set `max_features='sqrt'` or remove this parameter as it is also the default value for RandomForestClassifiers and ExtraTreesClassifiers.\n",
            "  warn(\n",
            "\n",
            "/usr/local/lib/python3.10/dist-packages/sklearn/ensemble/_forest.py:424: FutureWarning: `max_features='auto'` has been deprecated in 1.1 and will be removed in 1.3. To keep the past behaviour, explicitly set `max_features='sqrt'` or remove this parameter as it is also the default value for RandomForestClassifiers and ExtraTreesClassifiers.\n",
            "  warn(\n",
            "\n",
            "/usr/local/lib/python3.10/dist-packages/sklearn/ensemble/_forest.py:424: FutureWarning: `max_features='auto'` has been deprecated in 1.1 and will be removed in 1.3. To keep the past behaviour, explicitly set `max_features='sqrt'` or remove this parameter as it is also the default value for RandomForestClassifiers and ExtraTreesClassifiers.\n",
            "  warn(\n",
            "\n",
            "/usr/local/lib/python3.10/dist-packages/sklearn/ensemble/_forest.py:424: FutureWarning: `max_features='auto'` has been deprecated in 1.1 and will be removed in 1.3. To keep the past behaviour, explicitly set `max_features='sqrt'` or remove this parameter as it is also the default value for RandomForestClassifiers and ExtraTreesClassifiers.\n",
            "  warn(\n",
            "\n",
            "/usr/local/lib/python3.10/dist-packages/sklearn/ensemble/_forest.py:424: FutureWarning: `max_features='auto'` has been deprecated in 1.1 and will be removed in 1.3. To keep the past behaviour, explicitly set `max_features='sqrt'` or remove this parameter as it is also the default value for RandomForestClassifiers and ExtraTreesClassifiers.\n",
            "  warn(\n",
            "\n"
          ]
        },
        {
          "name": "stdout",
          "output_type": "stream",
          "text": [
            "\r 51%|█████▏    | 41/80 [49:55<33:29, 51.53s/trial, best loss: -0.849782830901208]"
          ]
        },
        {
          "name": "stderr",
          "output_type": "stream",
          "text": [
            "/usr/local/lib/python3.10/dist-packages/sklearn/ensemble/_forest.py:424: FutureWarning: `max_features='auto'` has been deprecated in 1.1 and will be removed in 1.3. To keep the past behaviour, explicitly set `max_features='sqrt'` or remove this parameter as it is also the default value for RandomForestClassifiers and ExtraTreesClassifiers.\n",
            "  warn(\n",
            "\n",
            "/usr/local/lib/python3.10/dist-packages/sklearn/ensemble/_forest.py:424: FutureWarning: `max_features='auto'` has been deprecated in 1.1 and will be removed in 1.3. To keep the past behaviour, explicitly set `max_features='sqrt'` or remove this parameter as it is also the default value for RandomForestClassifiers and ExtraTreesClassifiers.\n",
            "  warn(\n",
            "\n",
            "/usr/local/lib/python3.10/dist-packages/sklearn/ensemble/_forest.py:424: FutureWarning: `max_features='auto'` has been deprecated in 1.1 and will be removed in 1.3. To keep the past behaviour, explicitly set `max_features='sqrt'` or remove this parameter as it is also the default value for RandomForestClassifiers and ExtraTreesClassifiers.\n",
            "  warn(\n",
            "\n",
            "/usr/local/lib/python3.10/dist-packages/sklearn/ensemble/_forest.py:424: FutureWarning: `max_features='auto'` has been deprecated in 1.1 and will be removed in 1.3. To keep the past behaviour, explicitly set `max_features='sqrt'` or remove this parameter as it is also the default value for RandomForestClassifiers and ExtraTreesClassifiers.\n",
            "  warn(\n",
            "\n"
          ]
        },
        {
          "name": "stdout",
          "output_type": "stream",
          "text": [
            "\r 52%|█████▎    | 42/80 [49:55<22:59, 36.30s/trial, best loss: -0.849782830901208]"
          ]
        },
        {
          "name": "stderr",
          "output_type": "stream",
          "text": [
            "/usr/local/lib/python3.10/dist-packages/sklearn/ensemble/_forest.py:424: FutureWarning: `max_features='auto'` has been deprecated in 1.1 and will be removed in 1.3. To keep the past behaviour, explicitly set `max_features='sqrt'` or remove this parameter as it is also the default value for RandomForestClassifiers and ExtraTreesClassifiers.\n",
            "  warn(\n",
            "\n"
          ]
        },
        {
          "name": "stdout",
          "output_type": "stream",
          "text": [
            " 55%|█████▌    | 44/80 [1:06:26<3:03:12, 305.35s/trial, best loss: -0.849782830901208]"
          ]
        },
        {
          "name": "stderr",
          "output_type": "stream",
          "text": [
            "/usr/local/lib/python3.10/dist-packages/sklearn/ensemble/_forest.py:424: FutureWarning: `max_features='auto'` has been deprecated in 1.1 and will be removed in 1.3. To keep the past behaviour, explicitly set `max_features='sqrt'` or remove this parameter as it is also the default value for RandomForestClassifiers and ExtraTreesClassifiers.\n",
            "  warn(\n",
            "\n",
            "/usr/local/lib/python3.10/dist-packages/sklearn/ensemble/_forest.py:424: FutureWarning: `max_features='auto'` has been deprecated in 1.1 and will be removed in 1.3. To keep the past behaviour, explicitly set `max_features='sqrt'` or remove this parameter as it is also the default value for RandomForestClassifiers and ExtraTreesClassifiers.\n",
            "  warn(\n",
            "\n",
            "/usr/local/lib/python3.10/dist-packages/sklearn/ensemble/_forest.py:424: FutureWarning: `max_features='auto'` has been deprecated in 1.1 and will be removed in 1.3. To keep the past behaviour, explicitly set `max_features='sqrt'` or remove this parameter as it is also the default value for RandomForestClassifiers and ExtraTreesClassifiers.\n",
            "  warn(\n",
            "\n",
            "/usr/local/lib/python3.10/dist-packages/sklearn/ensemble/_forest.py:424: FutureWarning: `max_features='auto'` has been deprecated in 1.1 and will be removed in 1.3. To keep the past behaviour, explicitly set `max_features='sqrt'` or remove this parameter as it is also the default value for RandomForestClassifiers and ExtraTreesClassifiers.\n",
            "  warn(\n",
            "\n",
            "/usr/local/lib/python3.10/dist-packages/sklearn/ensemble/_forest.py:424: FutureWarning: `max_features='auto'` has been deprecated in 1.1 and will be removed in 1.3. To keep the past behaviour, explicitly set `max_features='sqrt'` or remove this parameter as it is also the default value for RandomForestClassifiers and ExtraTreesClassifiers.\n",
            "  warn(\n",
            "\n"
          ]
        },
        {
          "name": "stdout",
          "output_type": "stream",
          "text": [
            " 59%|█████▉    | 47/80 [1:07:43<1:07:30, 122.75s/trial, best loss: -0.849782830901208]"
          ]
        },
        {
          "name": "stderr",
          "output_type": "stream",
          "text": [
            "/usr/local/lib/python3.10/dist-packages/sklearn/ensemble/_forest.py:424: FutureWarning: `max_features='auto'` has been deprecated in 1.1 and will be removed in 1.3. To keep the past behaviour, explicitly set `max_features='sqrt'` or remove this parameter as it is also the default value for RandomForestClassifiers and ExtraTreesClassifiers.\n",
            "  warn(\n",
            "\n",
            "/usr/local/lib/python3.10/dist-packages/sklearn/ensemble/_forest.py:424: FutureWarning: `max_features='auto'` has been deprecated in 1.1 and will be removed in 1.3. To keep the past behaviour, explicitly set `max_features='sqrt'` or remove this parameter as it is also the default value for RandomForestClassifiers and ExtraTreesClassifiers.\n",
            "  warn(\n",
            "\n",
            "/usr/local/lib/python3.10/dist-packages/sklearn/ensemble/_forest.py:424: FutureWarning: `max_features='auto'` has been deprecated in 1.1 and will be removed in 1.3. To keep the past behaviour, explicitly set `max_features='sqrt'` or remove this parameter as it is also the default value for RandomForestClassifiers and ExtraTreesClassifiers.\n",
            "  warn(\n",
            "\n",
            "/usr/local/lib/python3.10/dist-packages/sklearn/ensemble/_forest.py:424: FutureWarning: `max_features='auto'` has been deprecated in 1.1 and will be removed in 1.3. To keep the past behaviour, explicitly set `max_features='sqrt'` or remove this parameter as it is also the default value for RandomForestClassifiers and ExtraTreesClassifiers.\n",
            "  warn(\n",
            "\n",
            "/usr/local/lib/python3.10/dist-packages/sklearn/ensemble/_forest.py:424: FutureWarning: `max_features='auto'` has been deprecated in 1.1 and will be removed in 1.3. To keep the past behaviour, explicitly set `max_features='sqrt'` or remove this parameter as it is also the default value for RandomForestClassifiers and ExtraTreesClassifiers.\n",
            "  warn(\n",
            "\n"
          ]
        },
        {
          "name": "stdout",
          "output_type": "stream",
          "text": [
            " 64%|██████▍   | 51/80 [1:13:18<45:46, 94.70s/trial, best loss: -0.849782830901208]   "
          ]
        },
        {
          "name": "stderr",
          "output_type": "stream",
          "text": [
            "/usr/local/lib/python3.10/dist-packages/sklearn/ensemble/_forest.py:424: FutureWarning: `max_features='auto'` has been deprecated in 1.1 and will be removed in 1.3. To keep the past behaviour, explicitly set `max_features='sqrt'` or remove this parameter as it is also the default value for RandomForestClassifiers and ExtraTreesClassifiers.\n",
            "  warn(\n",
            "\n",
            "/usr/local/lib/python3.10/dist-packages/sklearn/ensemble/_forest.py:424: FutureWarning: `max_features='auto'` has been deprecated in 1.1 and will be removed in 1.3. To keep the past behaviour, explicitly set `max_features='sqrt'` or remove this parameter as it is also the default value for RandomForestClassifiers and ExtraTreesClassifiers.\n",
            "  warn(\n",
            "\n",
            "/usr/local/lib/python3.10/dist-packages/sklearn/ensemble/_forest.py:424: FutureWarning: `max_features='auto'` has been deprecated in 1.1 and will be removed in 1.3. To keep the past behaviour, explicitly set `max_features='sqrt'` or remove this parameter as it is also the default value for RandomForestClassifiers and ExtraTreesClassifiers.\n",
            "  warn(\n",
            "\n",
            "/usr/local/lib/python3.10/dist-packages/sklearn/ensemble/_forest.py:424: FutureWarning: `max_features='auto'` has been deprecated in 1.1 and will be removed in 1.3. To keep the past behaviour, explicitly set `max_features='sqrt'` or remove this parameter as it is also the default value for RandomForestClassifiers and ExtraTreesClassifiers.\n",
            "  warn(\n",
            "\n",
            "/usr/local/lib/python3.10/dist-packages/sklearn/ensemble/_forest.py:424: FutureWarning: `max_features='auto'` has been deprecated in 1.1 and will be removed in 1.3. To keep the past behaviour, explicitly set `max_features='sqrt'` or remove this parameter as it is also the default value for RandomForestClassifiers and ExtraTreesClassifiers.\n",
            "  warn(\n",
            "\n"
          ]
        },
        {
          "name": "stdout",
          "output_type": "stream",
          "text": [
            " 68%|██████▊   | 54/80 [1:15:17<23:13, 53.61s/trial, best loss: -0.849782830901208]"
          ]
        },
        {
          "name": "stderr",
          "output_type": "stream",
          "text": [
            "/usr/local/lib/python3.10/dist-packages/sklearn/ensemble/_forest.py:424: FutureWarning: `max_features='auto'` has been deprecated in 1.1 and will be removed in 1.3. To keep the past behaviour, explicitly set `max_features='sqrt'` or remove this parameter as it is also the default value for RandomForestClassifiers and ExtraTreesClassifiers.\n",
            "  warn(\n",
            "\n",
            "/usr/local/lib/python3.10/dist-packages/sklearn/ensemble/_forest.py:424: FutureWarning: `max_features='auto'` has been deprecated in 1.1 and will be removed in 1.3. To keep the past behaviour, explicitly set `max_features='sqrt'` or remove this parameter as it is also the default value for RandomForestClassifiers and ExtraTreesClassifiers.\n",
            "  warn(\n",
            "\n",
            "/usr/local/lib/python3.10/dist-packages/sklearn/ensemble/_forest.py:424: FutureWarning: `max_features='auto'` has been deprecated in 1.1 and will be removed in 1.3. To keep the past behaviour, explicitly set `max_features='sqrt'` or remove this parameter as it is also the default value for RandomForestClassifiers and ExtraTreesClassifiers.\n",
            "  warn(\n",
            "\n",
            "/usr/local/lib/python3.10/dist-packages/sklearn/ensemble/_forest.py:424: FutureWarning: `max_features='auto'` has been deprecated in 1.1 and will be removed in 1.3. To keep the past behaviour, explicitly set `max_features='sqrt'` or remove this parameter as it is also the default value for RandomForestClassifiers and ExtraTreesClassifiers.\n",
            "  warn(\n",
            "\n",
            "/usr/local/lib/python3.10/dist-packages/sklearn/ensemble/_forest.py:424: FutureWarning: `max_features='auto'` has been deprecated in 1.1 and will be removed in 1.3. To keep the past behaviour, explicitly set `max_features='sqrt'` or remove this parameter as it is also the default value for RandomForestClassifiers and ExtraTreesClassifiers.\n",
            "  warn(\n",
            "\n"
          ]
        },
        {
          "name": "stdout",
          "output_type": "stream",
          "text": [
            " 71%|███████▏  | 57/80 [1:21:00<36:12, 94.44s/trial, best loss: -0.849782830901208]"
          ]
        }
      ],
      "source": [
        "from sklearn.model_selection import cross_val_score\n",
        "\n",
        "trials = Trials()\n",
        "best = fmin(fn= objective,\n",
        "            space= space,\n",
        "            algo= tpe.suggest,\n",
        "            max_evals = 80,\n",
        "            trials= trials)\n",
        "best"
      ]
    },
    {
      "cell_type": "code",
      "execution_count": null,
      "metadata": {
        "id": "P6aHzSg9Cl8k"
      },
      "outputs": [],
      "source": [
        "# Retrieve the best parameters\n",
        "best_params = space_eval(space, best)\n",
        "print(\"Best Hyperparameters:\")\n",
        "print(best_params)"
      ]
    },
    {
      "cell_type": "code",
      "execution_count": null,
      "metadata": {
        "id": "OtwmJjoQCl6i"
      },
      "outputs": [],
      "source": [
        "from sklearn.ensemble import RandomForestClassifier\n",
        "from sklearn.metrics import accuracy_score\n",
        "\n",
        "rf_hyp = RandomForestClassifier(\n",
        "    criterion=best_params['criterion'],\n",
        "    max_depth =best_params['max_depth'],\n",
        "    max_features=best_params['max_features'],\n",
        "    min_samples_leaf=best_params['min_samples_leaf'],\n",
        "    min_samples_split=best_params['min_samples_split'],\n",
        "    n_estimators=best_params['n_estimators']\n",
        ")\n",
        "\n",
        "rf_hyp.fit(X_pca_train, y_train)\n",
        "\n",
        "# Evaluate the performance of the XGBoost classifier hyper\n",
        "y_pred_rf_hyp = rf_hyp.predict(X_pca_test)\n",
        "score_rf_hyp = accuracy_score(y_test, y_pred_rf_hyp)\n",
        "print('Accuracy of Random Forest Classifier using HyperOPT:', score_rf_hyp)"
      ]
    },
    {
      "cell_type": "markdown",
      "metadata": {
        "id": "L6QbLBFwHkn1"
      },
      "source": [
        "# **TPOTClassifier**"
      ]
    },
    {
      "cell_type": "code",
      "execution_count": null,
      "metadata": {
        "id": "uqWSmOMgMWdW"
      },
      "outputs": [],
      "source": [
        "!pip install tpot"
      ]
    },
    {
      "cell_type": "markdown",
      "metadata": {
        "id": "UjTh0ZiiK9Q7"
      },
      "source": [
        "# XGBClssifier"
      ]
    },
    {
      "cell_type": "code",
      "execution_count": 41,
      "metadata": {
        "id": "MAVDt-ywLJ5O"
      },
      "outputs": [],
      "source": [
        "from tpot import TPOTClassifier\n",
        "\n",
        "tpot_config = {\n",
        "    'xgboost.XGBClassifier': {\n",
        "        'learning_rate': [0.01, 0.05, 0.1, 0.2, 0.3],\n",
        "        'n_estimators': range(50, 1000, 50),\n",
        "        'max_depth': range(3, 15),\n",
        "        'subsample': [0.8, 0.9, 1.0],\n",
        "        'colsample_bytree': [0.6, 0.7, 0.8, 0.9, 1.0],\n",
        "        'gamma': [0, 0.1, 0.2, 0.3, 0.4],\n",
        "        'min_child_weight': range(1, 10)\n",
        "    }\n",
        "}\n"
      ]
    },
    {
      "cell_type": "code",
      "execution_count": 42,
      "metadata": {
        "colab": {
          "base_uri": "https://localhost:8080/",
          "height": 460,
          "referenced_widgets": [
            "45cedbb7df0744f8b42f4195c6551cb3",
            "5d24872de60343a89f0155d26ac8a7e1",
            "609586b721be499c8abb491526105f07",
            "1a37d338db65463c99f0db08eda59ba5",
            "0c041ee5425b4bd1bdbbfe43f8f83cf8",
            "ee5bd5e5d758435d8528cf88dc6a2ebb",
            "3f84bf5f084e443794fe39fc90f2b316",
            "2a9e0b1b61b74276991bc0746c7fb107",
            "11c4de07d6cb4eb39294300e2d640857",
            "561a1a8061044521935fa0d0672646a8",
            "33555436828445df9721c64466ff2622"
          ]
        },
        "id": "3SEgFm5VLPm4",
        "outputId": "595ca249-6f47-4295-dc56-b2220bb5c729"
      },
      "outputs": [
        {
          "data": {
            "application/vnd.jupyter.widget-view+json": {
              "model_id": "45cedbb7df0744f8b42f4195c6551cb3",
              "version_major": 2,
              "version_minor": 0
            },
            "text/plain": [
              "Optimization Progress:   0%|          | 0/120 [00:00<?, ?pipeline/s]"
            ]
          },
          "metadata": {},
          "output_type": "display_data"
        },
        {
          "name": "stdout",
          "output_type": "stream",
          "text": [
            "\n",
            "Generation 1 - Current best internal CV score: 0.9385747126436783\n",
            "\n",
            "Generation 2 - Current best internal CV score: 0.9385747126436783\n",
            "\n",
            "Generation 3 - Current best internal CV score: 0.9385747126436783\n",
            "\n",
            "Generation 4 - Current best internal CV score: 0.9385747126436783\n",
            "\n",
            "Generation 5 - Current best internal CV score: 0.9385747126436783\n",
            "\n",
            "Best pipeline: XGBClassifier(input_matrix, colsample_bytree=0.9, gamma=0.4, learning_rate=0.1, max_depth=10, min_child_weight=5, n_estimators=350, subsample=0.8)\n"
          ]
        },
        {
          "data": {
            "text/html": [
              "<style>#sk-container-id-1 {color: black;background-color: white;}#sk-container-id-1 pre{padding: 0;}#sk-container-id-1 div.sk-toggleable {background-color: white;}#sk-container-id-1 label.sk-toggleable__label {cursor: pointer;display: block;width: 100%;margin-bottom: 0;padding: 0.3em;box-sizing: border-box;text-align: center;}#sk-container-id-1 label.sk-toggleable__label-arrow:before {content: \"▸\";float: left;margin-right: 0.25em;color: #696969;}#sk-container-id-1 label.sk-toggleable__label-arrow:hover:before {color: black;}#sk-container-id-1 div.sk-estimator:hover label.sk-toggleable__label-arrow:before {color: black;}#sk-container-id-1 div.sk-toggleable__content {max-height: 0;max-width: 0;overflow: hidden;text-align: left;background-color: #f0f8ff;}#sk-container-id-1 div.sk-toggleable__content pre {margin: 0.2em;color: black;border-radius: 0.25em;background-color: #f0f8ff;}#sk-container-id-1 input.sk-toggleable__control:checked~div.sk-toggleable__content {max-height: 200px;max-width: 100%;overflow: auto;}#sk-container-id-1 input.sk-toggleable__control:checked~label.sk-toggleable__label-arrow:before {content: \"▾\";}#sk-container-id-1 div.sk-estimator input.sk-toggleable__control:checked~label.sk-toggleable__label {background-color: #d4ebff;}#sk-container-id-1 div.sk-label input.sk-toggleable__control:checked~label.sk-toggleable__label {background-color: #d4ebff;}#sk-container-id-1 input.sk-hidden--visually {border: 0;clip: rect(1px 1px 1px 1px);clip: rect(1px, 1px, 1px, 1px);height: 1px;margin: -1px;overflow: hidden;padding: 0;position: absolute;width: 1px;}#sk-container-id-1 div.sk-estimator {font-family: monospace;background-color: #f0f8ff;border: 1px dotted black;border-radius: 0.25em;box-sizing: border-box;margin-bottom: 0.5em;}#sk-container-id-1 div.sk-estimator:hover {background-color: #d4ebff;}#sk-container-id-1 div.sk-parallel-item::after {content: \"\";width: 100%;border-bottom: 1px solid gray;flex-grow: 1;}#sk-container-id-1 div.sk-label:hover label.sk-toggleable__label {background-color: #d4ebff;}#sk-container-id-1 div.sk-serial::before {content: \"\";position: absolute;border-left: 1px solid gray;box-sizing: border-box;top: 0;bottom: 0;left: 50%;z-index: 0;}#sk-container-id-1 div.sk-serial {display: flex;flex-direction: column;align-items: center;background-color: white;padding-right: 0.2em;padding-left: 0.2em;position: relative;}#sk-container-id-1 div.sk-item {position: relative;z-index: 1;}#sk-container-id-1 div.sk-parallel {display: flex;align-items: stretch;justify-content: center;background-color: white;position: relative;}#sk-container-id-1 div.sk-item::before, #sk-container-id-1 div.sk-parallel-item::before {content: \"\";position: absolute;border-left: 1px solid gray;box-sizing: border-box;top: 0;bottom: 0;left: 50%;z-index: -1;}#sk-container-id-1 div.sk-parallel-item {display: flex;flex-direction: column;z-index: 1;position: relative;background-color: white;}#sk-container-id-1 div.sk-parallel-item:first-child::after {align-self: flex-end;width: 50%;}#sk-container-id-1 div.sk-parallel-item:last-child::after {align-self: flex-start;width: 50%;}#sk-container-id-1 div.sk-parallel-item:only-child::after {width: 0;}#sk-container-id-1 div.sk-dashed-wrapped {border: 1px dashed gray;margin: 0 0.4em 0.5em 0.4em;box-sizing: border-box;padding-bottom: 0.4em;background-color: white;}#sk-container-id-1 div.sk-label label {font-family: monospace;font-weight: bold;display: inline-block;line-height: 1.2em;}#sk-container-id-1 div.sk-label-container {text-align: center;}#sk-container-id-1 div.sk-container {/* jupyter's `normalize.less` sets `[hidden] { display: none; }` but bootstrap.min.css set `[hidden] { display: none !important; }` so we also need the `!important` here to be able to override the default hidden behavior on the sphinx rendered scikit-learn.org. See: https://github.com/scikit-learn/scikit-learn/issues/21755 */display: inline-block !important;position: relative;}#sk-container-id-1 div.sk-text-repr-fallback {display: none;}</style><div id=\"sk-container-id-1\" class=\"sk-top-container\"><div class=\"sk-text-repr-fallback\"><pre>TPOTClassifier(config_dict={&#x27;xgboost.XGBClassifier&#x27;: {&#x27;colsample_bytree&#x27;: [0.6,\n",
              "                                                                           0.7,\n",
              "                                                                           0.8,\n",
              "                                                                           0.9,\n",
              "                                                                           1.0],\n",
              "                                                      &#x27;gamma&#x27;: [0, 0.1, 0.2,\n",
              "                                                                0.3, 0.4],\n",
              "                                                      &#x27;learning_rate&#x27;: [0.01,\n",
              "                                                                        0.05,\n",
              "                                                                        0.1,\n",
              "                                                                        0.2,\n",
              "                                                                        0.3],\n",
              "                                                      &#x27;max_depth&#x27;: range(3, 15),\n",
              "                                                      &#x27;min_child_weight&#x27;: range(1, 10),\n",
              "                                                      &#x27;n_estimators&#x27;: range(50, 1000, 50),\n",
              "                                                      &#x27;subsample&#x27;: [0.8, 0.9,\n",
              "                                                                    1.0]}},\n",
              "               generations=5, population_size=20, random_state=42,\n",
              "               scoring=&#x27;accuracy&#x27;, verbosity=2)</pre><b>In a Jupyter environment, please rerun this cell to show the HTML representation or trust the notebook. <br />On GitHub, the HTML representation is unable to render, please try loading this page with nbviewer.org.</b></div><div class=\"sk-container\" hidden><div class=\"sk-item\"><div class=\"sk-estimator sk-toggleable\"><input class=\"sk-toggleable__control sk-hidden--visually\" id=\"sk-estimator-id-1\" type=\"checkbox\" checked><label for=\"sk-estimator-id-1\" class=\"sk-toggleable__label sk-toggleable__label-arrow\">TPOTClassifier</label><div class=\"sk-toggleable__content\"><pre>TPOTClassifier(config_dict={&#x27;xgboost.XGBClassifier&#x27;: {&#x27;colsample_bytree&#x27;: [0.6,\n",
              "                                                                           0.7,\n",
              "                                                                           0.8,\n",
              "                                                                           0.9,\n",
              "                                                                           1.0],\n",
              "                                                      &#x27;gamma&#x27;: [0, 0.1, 0.2,\n",
              "                                                                0.3, 0.4],\n",
              "                                                      &#x27;learning_rate&#x27;: [0.01,\n",
              "                                                                        0.05,\n",
              "                                                                        0.1,\n",
              "                                                                        0.2,\n",
              "                                                                        0.3],\n",
              "                                                      &#x27;max_depth&#x27;: range(3, 15),\n",
              "                                                      &#x27;min_child_weight&#x27;: range(1, 10),\n",
              "                                                      &#x27;n_estimators&#x27;: range(50, 1000, 50),\n",
              "                                                      &#x27;subsample&#x27;: [0.8, 0.9,\n",
              "                                                                    1.0]}},\n",
              "               generations=5, population_size=20, random_state=42,\n",
              "               scoring=&#x27;accuracy&#x27;, verbosity=2)</pre></div></div></div></div></div>"
            ],
            "text/plain": [
              "TPOTClassifier(config_dict={'xgboost.XGBClassifier': {'colsample_bytree': [0.6,\n",
              "                                                                           0.7,\n",
              "                                                                           0.8,\n",
              "                                                                           0.9,\n",
              "                                                                           1.0],\n",
              "                                                      'gamma': [0, 0.1, 0.2,\n",
              "                                                                0.3, 0.4],\n",
              "                                                      'learning_rate': [0.01,\n",
              "                                                                        0.05,\n",
              "                                                                        0.1,\n",
              "                                                                        0.2,\n",
              "                                                                        0.3],\n",
              "                                                      'max_depth': range(3, 15),\n",
              "                                                      'min_child_weight': range(1, 10),\n",
              "                                                      'n_estimators': range(50, 1000, 50),\n",
              "                                                      'subsample': [0.8, 0.9,\n",
              "                                                                    1.0]}},\n",
              "               generations=5, population_size=20, random_state=42,\n",
              "               scoring='accuracy', verbosity=2)"
            ]
          },
          "execution_count": 42,
          "metadata": {},
          "output_type": "execute_result"
        }
      ],
      "source": [
        "tpot = TPOTClassifier(generations=5, population_size=20, config_dict=tpot_config, verbosity=2, random_state=42, scoring='accuracy')\n",
        "tpot.fit(X_scaled_train, y_train)"
      ]
    },
    {
      "cell_type": "code",
      "execution_count": 43,
      "metadata": {
        "colab": {
          "base_uri": "https://localhost:8080/"
        },
        "id": "nElk82LsI3L0",
        "outputId": "fad21436-cf67-4c89-c39a-79971ba4034e"
      },
      "outputs": [
        {
          "data": {
            "text/plain": [
              "<bound method BaseEstimator.get_params of TPOTClassifier(config_dict={'xgboost.XGBClassifier': {'colsample_bytree': [0.6,\n",
              "                                                                           0.7,\n",
              "                                                                           0.8,\n",
              "                                                                           0.9,\n",
              "                                                                           1.0],\n",
              "                                                      'gamma': [0, 0.1, 0.2,\n",
              "                                                                0.3, 0.4],\n",
              "                                                      'learning_rate': [0.01,\n",
              "                                                                        0.05,\n",
              "                                                                        0.1,\n",
              "                                                                        0.2,\n",
              "                                                                        0.3],\n",
              "                                                      'max_depth': range(3, 15),\n",
              "                                                      'min_child_weight': range(1, 10),\n",
              "                                                      'n_estimators': range(50, 1000, 50),\n",
              "                                                      'subsample': [0.8, 0.9,\n",
              "                                                                    1.0]}},\n",
              "               generations=5, population_size=20, random_state=42,\n",
              "               scoring='accuracy', verbosity=2)>"
            ]
          },
          "execution_count": 43,
          "metadata": {},
          "output_type": "execute_result"
        }
      ],
      "source": [
        "tpot.get_params"
      ]
    },
    {
      "cell_type": "code",
      "execution_count": 44,
      "metadata": {
        "colab": {
          "base_uri": "https://localhost:8080/"
        },
        "id": "DG3iRt7nLns-",
        "outputId": "fb3a877f-65a1-470a-98c8-a35a66b263e0"
      },
      "outputs": [
        {
          "name": "stdout",
          "output_type": "stream",
          "text": [
            "Testing Data\n",
            "Accuracy of XGBClassifier using HyperOPT: 0.9387241379310345\n",
            "Precision: 0.938719832109129\n",
            "Recall: 0.9370810055865921\n",
            "F2 Score: 0.9374083129584352\n",
            "Trainind Data\n",
            "Accuracy of XGBClassifier using HyperOPT: 0.9613103448275863\n",
            "Precision: 0.9688110521909015\n",
            "Recall: 0.9536401098901099\n",
            "F2 Score: 0.956636168219148\n"
          ]
        }
      ],
      "source": [
        "# Evaluate the performance of the XGBoost classifier\n",
        "y_pred_xgb_tpot = tpot.predict(X_scaled_test)\n",
        "score_xgb_tpot = accuracy_score(y_test, y_pred_xgb_tpot)\n",
        "\n",
        "\n",
        "y_true = y_test\n",
        "y_pred = y_pred_xgb_tpot\n",
        "\n",
        "# Assuming y_true contains the true labels and y_pred contains the predicted labels\n",
        "precision = precision_score(y_true, y_pred)\n",
        "conf_matrix = confusion_matrix(y_true, y_pred)\n",
        "recall = conf_matrix[1, 1] / (conf_matrix[1, 1] + conf_matrix[1, 0])\n",
        "f2_score = fbeta_score(y_true, y_pred, beta=2)\n",
        "print('Testing Data')\n",
        "print('Accuracy of XGBClassifier using HyperOPT:', score_xgb_tpot)\n",
        "print(f'Precision: {precision}')\n",
        "print(f'Recall: {recall}')\n",
        "print(f'F2 Score: {f2_score}')\n",
        "\n",
        "y_true = y_train\n",
        "y_pred = tpot.predict(X_scaled_train)\n",
        "\n",
        "# Assuming y_true contains the true labels and y_pred contains the predicted labels\n",
        "accuracy = accuracy_score(y_true,y_pred)\n",
        "precision = precision_score(y_true, y_pred)\n",
        "conf_matrix = confusion_matrix(y_true, y_pred)\n",
        "recall = conf_matrix[1, 1] / (conf_matrix[1, 1] + conf_matrix[1, 0])\n",
        "f2_score = fbeta_score(y_true, y_pred, beta=2)\n",
        "print('Trainind Data')\n",
        "print('Accuracy of XGBClassifier using HyperOPT:', accuracy)\n",
        "print(f'Precision: {precision}')\n",
        "print(f'Recall: {recall}')\n",
        "print(f'F2 Score: {f2_score}')"
      ]
    },
    {
      "cell_type": "code",
      "execution_count": 45,
      "metadata": {
        "colab": {
          "base_uri": "https://localhost:8080/"
        },
        "id": "ADklIEt6vQ6E",
        "outputId": "e4a02338-12fc-4dc9-e384-145de4093c53"
      },
      "outputs": [
        {
          "name": "stdout",
          "output_type": "stream",
          "text": [
            "Accuracy   0.8419984653423139\n",
            "Precision: 0.8364649230478708\n",
            "Recall: 0.8671974418377003\n",
            "F2 Score: 0.8608715932133117\n"
          ]
        }
      ],
      "source": [
        "df3 = pd.read_csv('/content/dataset_small.csv')\n",
        "df3 = df3[list(df2.columns)]\n",
        "X2 = df3.drop(columns='phishing',axis=1)\n",
        "Y2 = df3['phishing']\n",
        "X2 = pca.fit_transform(X2)\n",
        "X2 = scaler.transform(X2)\n",
        "ypred2 = xgb_hyp.predict(X2)\n",
        "accuracy = accuracy_score(Y2,ypred2)\n",
        "print('Accuracy  ' ,accuracy)\n",
        "y_true = Y2\n",
        "y_pred = ypred2\n",
        "from sklearn.metrics import precision_score, fbeta_score, confusion_matrix\n",
        "\n",
        "# Assuming y_true contains the true labels and y_pred contains the predicted labels\n",
        "precision = precision_score(y_true, y_pred)\n",
        "conf_matrix = confusion_matrix(y_true, y_pred)\n",
        "recall = conf_matrix[1, 1] / (conf_matrix[1, 1] + conf_matrix[1, 0])\n",
        "f2_score = fbeta_score(y_true, y_pred, beta=2)\n",
        "\n",
        "print(f'Precision: {precision}')\n",
        "print(f'Recall: {recall}')\n",
        "print(f'F2 Score: {f2_score}')"
      ]
    },
    {
      "cell_type": "code",
      "execution_count": 56,
      "metadata": {
        "colab": {
          "base_uri": "https://localhost:8080/"
        },
        "id": "jhZbMLayNKDe",
        "outputId": "cbf1e993-dab1-450f-fc3e-5ac3c0b88726"
      },
      "outputs": [
        {
          "data": {
            "text/plain": [
              "['/content/tpot_xgbclassifier_pipeline.joblib']"
            ]
          },
          "execution_count": 56,
          "metadata": {},
          "output_type": "execute_result"
        }
      ],
      "source": [
        "import joblib\n",
        "\n",
        "# Save only the fitted pipeline of TPOT\n",
        "joblib.dump(tpot.fitted_pipeline_, '/content/tpot_xgbclassifier_pipeline.joblib')\n"
      ]
    },
    {
      "cell_type": "markdown",
      "metadata": {
        "id": "Tz6xtwSmKzoP"
      },
      "source": [
        "# Random Forest Classifier"
      ]
    },
    {
      "cell_type": "code",
      "execution_count": null,
      "metadata": {
        "colab": {
          "base_uri": "https://localhost:8080/"
        },
        "id": "jrqn25eJBAHM",
        "outputId": "1a77b213-47e0-424f-db47-06258061bcc3"
      },
      "outputs": [
        {
          "name": "stdout",
          "output_type": "stream",
          "text": [
            "{'n_estimators': [200, 400, 600, 800, 1000, 1200, 1400, 1600, 1800, 2000], 'max_features': ['auto', 'sqrt', 'log2'], 'max_depth': [10, 120, 230, 340, 450, 560, 670, 780, 890, 1000], 'min_samples_split': [2, 5, 10, 14], 'min_samples_leaf': [1, 2, 4, 6, 8], 'criterion': ['entropy', 'gini']}\n"
          ]
        }
      ],
      "source": [
        "import numpy as np\n",
        "from sklearn.model_selection import RandomizedSearchCV\n",
        "# Number of trees in random forest\n",
        "n_estimators = [int(x) for x in np.linspace(start = 200, stop = 2000, num = 10)]\n",
        "# Number of features to consider at every split\n",
        "max_features = ['auto', 'sqrt','log2']\n",
        "# Maximum number of levels in tree\n",
        "max_depth = [int(x) for x in np.linspace(10, 1000,10)]\n",
        "# Minimum number of samples required to split a node\n",
        "min_samples_split = [2, 5, 10,14]\n",
        "# Minimum number of samples required at each leaf node\n",
        "min_samples_leaf = [1, 2, 4,6,8]\n",
        "# Create the random grid\n",
        "param = {'n_estimators': n_estimators,\n",
        "               'max_features': max_features,\n",
        "               'max_depth': max_depth,\n",
        "               'min_samples_split': min_samples_split,\n",
        "               'min_samples_leaf': min_samples_leaf,\n",
        "              'criterion':['entropy','gini']}\n",
        "print(param)"
      ]
    },
    {
      "cell_type": "code",
      "execution_count": null,
      "metadata": {
        "colab": {
          "base_uri": "https://localhost:8080/",
          "height": 85,
          "referenced_widgets": [
            "94316c6be834459eb1f1022f0c845b00",
            "30b0cf369cba48e985a134889c8ad24d",
            "7e6288d568fd41889f082f4225373666",
            "64354ddaf18a4d189ccaa78255ee585f",
            "a51341a5d2c74b798906b7243f676a9f",
            "527fc7dde51b4de28d14403364aec302",
            "98428713edb24948a459bd15c065b058",
            "9c9df56c28854419ad5594ccc7fd65fe",
            "dd47d9dca7084b6b8daa5189a5a47dfd",
            "9c4e2ad1fbba4c23b10d852f24de8f7f",
            "17496a7dbc71420e88086278f3eb1c1b"
          ]
        },
        "id": "JF3hAqCAHhsJ",
        "outputId": "c8560b39-41fc-4e39-8749-488d5816c85d"
      },
      "outputs": [
        {
          "data": {
            "application/vnd.jupyter.widget-view+json": {
              "model_id": "94316c6be834459eb1f1022f0c845b00",
              "version_major": 2,
              "version_minor": 0
            },
            "text/plain": [
              "Optimization Progress:   0%|          | 0/84 [00:00<?, ?pipeline/s]"
            ]
          },
          "metadata": {},
          "output_type": "display_data"
        },
        {
          "name": "stdout",
          "output_type": "stream",
          "text": [
            "\n",
            "Generation 1 - Current best internal CV score: 0.9015301835336046\n"
          ]
        }
      ],
      "source": [
        "\n",
        "from tpot import TPOTClassifier\n",
        "\n",
        "\n",
        "tpot_classifier = TPOTClassifier(generations= 5, population_size= 24, offspring_size= 12,\n",
        "                                 verbosity= 2, early_stop= 12,\n",
        "                                 config_dict={'sklearn.ensemble.RandomForestClassifier': param},\n",
        "                                 cv = 4, scoring = 'accuracy')\n",
        "tpot_classifier.fit(X_pca_train,y_train)"
      ]
    },
    {
      "cell_type": "code",
      "execution_count": null,
      "metadata": {
        "id": "pvYnY7PXHivy"
      },
      "outputs": [],
      "source": [
        "accuracy = tpot_classifier.score(X_pca_test, y_test)\n",
        "print(accuracy)"
      ]
    },
    {
      "cell_type": "code",
      "execution_count": null,
      "metadata": {
        "id": "eMiToOwpQnHe"
      },
      "outputs": [],
      "source": [
        "tpot_classifier.get_params"
      ]
    },
    {
      "cell_type": "code",
      "execution_count": null,
      "metadata": {
        "id": "0XSQ6dNfZZTI"
      },
      "outputs": [],
      "source": [
        "import joblib\n",
        "\n",
        "# Save only the fitted pipeline of TPOT\n",
        "joblib.dump(tpot_classifier.fitted_pipeline_, '/content/tpot_randomforestclassifier_pipeline.joblib')\n"
      ]
    },
    {
      "cell_type": "markdown",
      "metadata": {
        "id": "CxqDhfGcQnsF"
      },
      "source": [
        "# **Optuna**"
      ]
    },
    {
      "cell_type": "markdown",
      "metadata": {
        "id": "bF_ifrsvQtTg"
      },
      "source": [
        "# XGBClassifier"
      ]
    },
    {
      "cell_type": "code",
      "execution_count": 48,
      "metadata": {
        "colab": {
          "base_uri": "https://localhost:8080/"
        },
        "id": "pEA06KBjREZv",
        "outputId": "65353f11-ec0d-4677-ef51-43a05d19d189"
      },
      "outputs": [
        {
          "name": "stdout",
          "output_type": "stream",
          "text": [
            "Collecting optuna\n",
            "  Downloading optuna-3.5.0-py3-none-any.whl (413 kB)\n",
            "\u001b[2K     \u001b[90m━━━━━━━━━━━━━━━━━━━━━━━━━━━━━━━━━━━━━━━━\u001b[0m \u001b[32m413.4/413.4 kB\u001b[0m \u001b[31m4.6 MB/s\u001b[0m eta \u001b[36m0:00:00\u001b[0m\n",
            "\u001b[?25hCollecting alembic>=1.5.0 (from optuna)\n",
            "  Downloading alembic-1.13.1-py3-none-any.whl (233 kB)\n",
            "\u001b[2K     \u001b[90m━━━━━━━━━━━━━━━━━━━━━━━━━━━━━━━━━━━━━━━━\u001b[0m \u001b[32m233.4/233.4 kB\u001b[0m \u001b[31m7.9 MB/s\u001b[0m eta \u001b[36m0:00:00\u001b[0m\n",
            "\u001b[?25hCollecting colorlog (from optuna)\n",
            "  Downloading colorlog-6.8.0-py3-none-any.whl (11 kB)\n",
            "Requirement already satisfied: numpy in /usr/local/lib/python3.10/dist-packages (from optuna) (1.23.5)\n",
            "Requirement already satisfied: packaging>=20.0 in /usr/local/lib/python3.10/dist-packages (from optuna) (23.2)\n",
            "Requirement already satisfied: sqlalchemy>=1.3.0 in /usr/local/lib/python3.10/dist-packages (from optuna) (2.0.24)\n",
            "Requirement already satisfied: tqdm in /usr/local/lib/python3.10/dist-packages (from optuna) (4.66.1)\n",
            "Requirement already satisfied: PyYAML in /usr/local/lib/python3.10/dist-packages (from optuna) (6.0.1)\n",
            "Collecting Mako (from alembic>=1.5.0->optuna)\n",
            "  Downloading Mako-1.3.0-py3-none-any.whl (78 kB)\n",
            "\u001b[2K     \u001b[90m━━━━━━━━━━━━━━━━━━━━━━━━━━━━━━━━━━━━━━━━\u001b[0m \u001b[32m78.6/78.6 kB\u001b[0m \u001b[31m6.0 MB/s\u001b[0m eta \u001b[36m0:00:00\u001b[0m\n",
            "\u001b[?25hRequirement already satisfied: typing-extensions>=4 in /usr/local/lib/python3.10/dist-packages (from alembic>=1.5.0->optuna) (4.5.0)\n",
            "Requirement already satisfied: greenlet!=0.4.17 in /usr/local/lib/python3.10/dist-packages (from sqlalchemy>=1.3.0->optuna) (3.0.3)\n",
            "Requirement already satisfied: MarkupSafe>=0.9.2 in /usr/local/lib/python3.10/dist-packages (from Mako->alembic>=1.5.0->optuna) (2.1.3)\n",
            "Installing collected packages: Mako, colorlog, alembic, optuna\n",
            "Successfully installed Mako-1.3.0 alembic-1.13.1 colorlog-6.8.0 optuna-3.5.0\n"
          ]
        }
      ],
      "source": [
        "!pip install optuna"
      ]
    },
    {
      "cell_type": "code",
      "execution_count": 49,
      "metadata": {
        "id": "WrRQuZOuQm6S"
      },
      "outputs": [],
      "source": [
        "import optuna\n",
        "from xgboost import XGBClassifier\n",
        "from sklearn.metrics import accuracy_score\n",
        "\n",
        "def objective(trial,X_scaled_train,y_train,X_scaled_test,y_test):\n",
        "    train_x, valid_x, train_y, valid_y = X_scaled_train,X_scaled_test,y_train,y_test\n",
        "\n",
        "    params = {\n",
        "        'learning_rate': trial.suggest_float(\"learning_rate\", 0.01, 0.3, log=True),\n",
        "        'n_estimators': trial.suggest_int(\"n_estimators\", 50, 500),\n",
        "        'max_depth': trial.suggest_int(\"max_depth\", 3, 10),\n",
        "        'subsample': trial.suggest_categorical(\"subsample\", [0.8, 0.9, 1.0]),\n",
        "        'colsample_bytree': trial.suggest_categorical(\"colsample_bytree\", [0.8, 0.9, 1.0]),\n",
        "        'gamma': trial.suggest_categorical(\"gamma\", [0, 0.1, 0.2, 0.3, 0.4]),\n",
        "        'min_child_weight': trial.suggest_int(\"min_child_weight\", 1, 10)\n",
        "    }\n",
        "\n",
        "    # Create XGBoost classifier with the suggested hyperparameters\n",
        "    clf = XGBClassifier(**params)\n",
        "\n",
        "    # Train the classifier on the training set\n",
        "    clf.fit(train_x, train_y)\n",
        "\n",
        "    # Calculate accuracy on the validation set\n",
        "    accuracy = accuracy_score(valid_y, clf.predict(valid_x))\n",
        "\n",
        "    return 1.0 - accuracy  # Optimize for accuracy"
      ]
    },
    {
      "cell_type": "code",
      "execution_count": 51,
      "metadata": {
        "colab": {
          "base_uri": "https://localhost:8080/"
        },
        "id": "HjvbULaHQmuH",
        "outputId": "9b3f82d8-6389-42da-8f8f-3eea89f8c1d9"
      },
      "outputs": [
        {
          "name": "stderr",
          "output_type": "stream",
          "text": [
            "[I 2024-01-22 11:29:49,174] A new study created in memory with name: no-name-3d6a74c4-5baf-4322-8d2a-c6ac0e6f95e7\n",
            "[I 2024-01-22 11:29:54,396] Trial 0 finished with value: 0.9323448275862068 and parameters: {'learning_rate': 0.10093319691710702, 'n_estimators': 450, 'max_depth': 4, 'subsample': 0.8, 'colsample_bytree': 0.8, 'gamma': 0, 'min_child_weight': 4}. Best is trial 0 with value: 0.9323448275862068.\n",
            "[I 2024-01-22 11:29:57,454] Trial 1 finished with value: 0.9366551724137931 and parameters: {'learning_rate': 0.06442152251343282, 'n_estimators': 256, 'max_depth': 10, 'subsample': 0.8, 'colsample_bytree': 1.0, 'gamma': 0.2, 'min_child_weight': 10}. Best is trial 0 with value: 0.9323448275862068.\n",
            "[I 2024-01-22 11:29:59,086] Trial 2 finished with value: 0.9378965517241379 and parameters: {'learning_rate': 0.22686106422332056, 'n_estimators': 234, 'max_depth': 6, 'subsample': 1.0, 'colsample_bytree': 0.8, 'gamma': 0.2, 'min_child_weight': 3}. Best is trial 0 with value: 0.9323448275862068.\n",
            "[I 2024-01-22 11:30:00,123] Trial 3 finished with value: 0.9234827586206896 and parameters: {'learning_rate': 0.11587308307532193, 'n_estimators': 207, 'max_depth': 3, 'subsample': 0.9, 'colsample_bytree': 1.0, 'gamma': 0, 'min_child_weight': 3}. Best is trial 3 with value: 0.9234827586206896.\n",
            "[I 2024-01-22 11:30:05,446] Trial 4 finished with value: 0.9353448275862069 and parameters: {'learning_rate': 0.025838374640077794, 'n_estimators': 391, 'max_depth': 9, 'subsample': 0.8, 'colsample_bytree': 1.0, 'gamma': 0.2, 'min_child_weight': 9}. Best is trial 3 with value: 0.9234827586206896.\n",
            "[I 2024-01-22 11:30:07,002] Trial 5 finished with value: 0.9223103448275862 and parameters: {'learning_rate': 0.059252305300491796, 'n_estimators': 67, 'max_depth': 5, 'subsample': 0.9, 'colsample_bytree': 0.9, 'gamma': 0.4, 'min_child_weight': 10}. Best is trial 5 with value: 0.9223103448275862.\n",
            "[I 2024-01-22 11:30:09,824] Trial 6 finished with value: 0.9296551724137931 and parameters: {'learning_rate': 0.018414299665533027, 'n_estimators': 225, 'max_depth': 8, 'subsample': 0.8, 'colsample_bytree': 1.0, 'gamma': 0.2, 'min_child_weight': 9}. Best is trial 5 with value: 0.9223103448275862.\n",
            "[I 2024-01-22 11:30:12,596] Trial 7 finished with value: 0.9333103448275862 and parameters: {'learning_rate': 0.03993068214385029, 'n_estimators': 325, 'max_depth': 7, 'subsample': 1.0, 'colsample_bytree': 0.8, 'gamma': 0.4, 'min_child_weight': 3}. Best is trial 5 with value: 0.9223103448275862.\n",
            "[I 2024-01-22 11:30:15,184] Trial 8 finished with value: 0.9343103448275862 and parameters: {'learning_rate': 0.17401898461324664, 'n_estimators': 474, 'max_depth': 4, 'subsample': 0.8, 'colsample_bytree': 0.9, 'gamma': 0.4, 'min_child_weight': 5}. Best is trial 5 with value: 0.9223103448275862.\n",
            "[I 2024-01-22 11:30:16,703] Trial 9 finished with value: 0.935 and parameters: {'learning_rate': 0.06024152185659271, 'n_estimators': 97, 'max_depth': 10, 'subsample': 0.9, 'colsample_bytree': 0.9, 'gamma': 0.1, 'min_child_weight': 9}. Best is trial 5 with value: 0.9223103448275862.\n",
            "[I 2024-01-22 11:30:19,034] Trial 10 finished with value: 0.9197586206896552 and parameters: {'learning_rate': 0.010272303050846292, 'n_estimators': 61, 'max_depth': 6, 'subsample': 0.9, 'colsample_bytree': 0.9, 'gamma': 0.3, 'min_child_weight': 7}. Best is trial 10 with value: 0.9197586206896552.\n",
            "[I 2024-01-22 11:30:20,434] Trial 11 finished with value: 0.9203793103448276 and parameters: {'learning_rate': 0.013250512733833701, 'n_estimators': 58, 'max_depth': 6, 'subsample': 0.9, 'colsample_bytree': 0.9, 'gamma': 0.3, 'min_child_weight': 7}. Best is trial 10 with value: 0.9197586206896552.\n",
            "[I 2024-01-22 11:30:21,619] Trial 12 finished with value: 0.9204827586206896 and parameters: {'learning_rate': 0.01004625233444919, 'n_estimators': 116, 'max_depth': 6, 'subsample': 0.9, 'colsample_bytree': 0.9, 'gamma': 0.3, 'min_child_weight': 7}. Best is trial 10 with value: 0.9197586206896552.\n",
            "[I 2024-01-22 11:30:24,975] Trial 13 finished with value: 0.923896551724138 and parameters: {'learning_rate': 0.010863919911542579, 'n_estimators': 155, 'max_depth': 7, 'subsample': 0.9, 'colsample_bytree': 0.9, 'gamma': 0.3, 'min_child_weight': 7}. Best is trial 10 with value: 0.9197586206896552.\n",
            "[I 2024-01-22 11:30:25,539] Trial 14 finished with value: 0.9125172413793103 and parameters: {'learning_rate': 0.016307869123369425, 'n_estimators': 54, 'max_depth': 5, 'subsample': 0.9, 'colsample_bytree': 0.9, 'gamma': 0.3, 'min_child_weight': 1}. Best is trial 14 with value: 0.9125172413793103.\n",
            "[I 2024-01-22 11:30:29,234] Trial 15 finished with value: 0.9216551724137931 and parameters: {'learning_rate': 0.023306757643170115, 'n_estimators': 165, 'max_depth': 5, 'subsample': 0.9, 'colsample_bytree': 0.9, 'gamma': 0.3, 'min_child_weight': 1}. Best is trial 14 with value: 0.9125172413793103.\n",
            "[I 2024-01-22 11:30:33,627] Trial 16 finished with value: 0.9233793103448276 and parameters: {'learning_rate': 0.016906025684341023, 'n_estimators': 330, 'max_depth': 5, 'subsample': 1.0, 'colsample_bytree': 0.9, 'gamma': 0.3, 'min_child_weight': 1}. Best is trial 14 with value: 0.9125172413793103.\n",
            "[I 2024-01-22 11:30:35,616] Trial 17 finished with value: 0.9313793103448276 and parameters: {'learning_rate': 0.033641598866075, 'n_estimators': 156, 'max_depth': 8, 'subsample': 0.9, 'colsample_bytree': 0.9, 'gamma': 0.1, 'min_child_weight': 6}. Best is trial 14 with value: 0.9125172413793103.\n",
            "[I 2024-01-22 11:30:36,348] Trial 18 finished with value: 0.9095517241379311 and parameters: {'learning_rate': 0.016075347254907963, 'n_estimators': 115, 'max_depth': 3, 'subsample': 0.9, 'colsample_bytree': 0.9, 'gamma': 0.3, 'min_child_weight': 5}. Best is trial 18 with value: 0.9095517241379311.\n",
            "[I 2024-01-22 11:30:37,867] Trial 19 finished with value: 0.9201724137931034 and parameters: {'learning_rate': 0.03933842574989499, 'n_estimators': 300, 'max_depth': 3, 'subsample': 0.9, 'colsample_bytree': 0.8, 'gamma': 0.3, 'min_child_weight': 2}. Best is trial 18 with value: 0.9095517241379311.\n",
            "[I 2024-01-22 11:30:38,737] Trial 20 finished with value: 0.9115517241379311 and parameters: {'learning_rate': 0.017531167723104188, 'n_estimators': 123, 'max_depth': 4, 'subsample': 1.0, 'colsample_bytree': 0.9, 'gamma': 0.3, 'min_child_weight': 5}. Best is trial 18 with value: 0.9095517241379311.\n",
            "[I 2024-01-22 11:30:40,092] Trial 21 finished with value: 0.9105862068965517 and parameters: {'learning_rate': 0.015588697432899066, 'n_estimators': 116, 'max_depth': 4, 'subsample': 1.0, 'colsample_bytree': 0.9, 'gamma': 0.3, 'min_child_weight': 5}. Best is trial 18 with value: 0.9095517241379311.\n",
            "[I 2024-01-22 11:30:42,331] Trial 22 finished with value: 0.9121379310344827 and parameters: {'learning_rate': 0.02109559882495488, 'n_estimators': 117, 'max_depth': 4, 'subsample': 1.0, 'colsample_bytree': 0.9, 'gamma': 0.3, 'min_child_weight': 5}. Best is trial 18 with value: 0.9095517241379311.\n",
            "[I 2024-01-22 11:30:46,081] Trial 23 finished with value: 0.9131034482758621 and parameters: {'learning_rate': 0.03150601541640842, 'n_estimators': 181, 'max_depth': 3, 'subsample': 1.0, 'colsample_bytree': 0.9, 'gamma': 0.3, 'min_child_weight': 4}. Best is trial 18 with value: 0.9095517241379311.\n",
            "[I 2024-01-22 11:30:46,930] Trial 24 finished with value: 0.9109310344827586 and parameters: {'learning_rate': 0.015129216515783143, 'n_estimators': 122, 'max_depth': 4, 'subsample': 1.0, 'colsample_bytree': 0.9, 'gamma': 0.3, 'min_child_weight': 6}. Best is trial 18 with value: 0.9095517241379311.\n",
            "[I 2024-01-22 11:30:47,943] Trial 25 finished with value: 0.9127241379310345 and parameters: {'learning_rate': 0.029001456237640517, 'n_estimators': 191, 'max_depth': 3, 'subsample': 1.0, 'colsample_bytree': 0.9, 'gamma': 0, 'min_child_weight': 6}. Best is trial 18 with value: 0.9095517241379311.\n",
            "[I 2024-01-22 11:30:48,693] Trial 26 finished with value: 0.9104137931034483 and parameters: {'learning_rate': 0.013498574795700938, 'n_estimators': 102, 'max_depth': 4, 'subsample': 1.0, 'colsample_bytree': 0.9, 'gamma': 0.1, 'min_child_weight': 4}. Best is trial 18 with value: 0.9095517241379311.\n",
            "[I 2024-01-22 11:30:49,248] Trial 27 finished with value: 0.9092413793103449 and parameters: {'learning_rate': 0.01316969375354633, 'n_estimators': 84, 'max_depth': 3, 'subsample': 1.0, 'colsample_bytree': 0.9, 'gamma': 0.1, 'min_child_weight': 4}. Best is trial 27 with value: 0.9092413793103449.\n",
            "[I 2024-01-22 11:30:49,862] Trial 28 finished with value: 0.9092413793103449 and parameters: {'learning_rate': 0.012604332755004003, 'n_estimators': 92, 'max_depth': 3, 'subsample': 1.0, 'colsample_bytree': 0.8, 'gamma': 0.1, 'min_child_weight': 4}. Best is trial 27 with value: 0.9092413793103449.\n",
            "[I 2024-01-22 11:30:51,633] Trial 29 finished with value: 0.9253448275862068 and parameters: {'learning_rate': 0.08957324277356894, 'n_estimators': 405, 'max_depth': 3, 'subsample': 1.0, 'colsample_bytree': 0.8, 'gamma': 0.1, 'min_child_weight': 4}. Best is trial 27 with value: 0.9092413793103449.\n",
            "[I 2024-01-22 11:30:52,255] Trial 30 finished with value: 0.9092068965517242 and parameters: {'learning_rate': 0.012006759719795628, 'n_estimators': 91, 'max_depth': 3, 'subsample': 1.0, 'colsample_bytree': 0.8, 'gamma': 0.1, 'min_child_weight': 2}. Best is trial 30 with value: 0.9092068965517242.\n",
            "[I 2024-01-22 11:30:52,813] Trial 31 finished with value: 0.9093103448275862 and parameters: {'learning_rate': 0.012541607607218622, 'n_estimators': 85, 'max_depth': 3, 'subsample': 1.0, 'colsample_bytree': 0.8, 'gamma': 0.1, 'min_child_weight': 2}. Best is trial 30 with value: 0.9092068965517242.\n",
            "[I 2024-01-22 11:30:53,357] Trial 32 finished with value: 0.9092413793103449 and parameters: {'learning_rate': 0.012265653590444056, 'n_estimators': 82, 'max_depth': 3, 'subsample': 1.0, 'colsample_bytree': 0.8, 'gamma': 0.1, 'min_child_weight': 2}. Best is trial 30 with value: 0.9092068965517242.\n",
            "[I 2024-01-22 11:30:54,200] Trial 33 finished with value: 0.9097241379310345 and parameters: {'learning_rate': 0.021599100091600577, 'n_estimators': 143, 'max_depth': 3, 'subsample': 1.0, 'colsample_bytree': 0.8, 'gamma': 0.1, 'min_child_weight': 2}. Best is trial 30 with value: 0.9092068965517242.\n",
            "[I 2024-01-22 11:30:54,704] Trial 34 finished with value: 0.909448275862069 and parameters: {'learning_rate': 0.012322901774224966, 'n_estimators': 75, 'max_depth': 3, 'subsample': 1.0, 'colsample_bytree': 0.8, 'gamma': 0.1, 'min_child_weight': 3}. Best is trial 30 with value: 0.9092068965517242.\n",
            "[I 2024-01-22 11:30:57,782] Trial 35 finished with value: 0.9203793103448276 and parameters: {'learning_rate': 0.019885867591762914, 'n_estimators': 239, 'max_depth': 4, 'subsample': 1.0, 'colsample_bytree': 0.8, 'gamma': 0.1, 'min_child_weight': 2}. Best is trial 30 with value: 0.9092068965517242.\n",
            "[I 2024-01-22 11:30:58,769] Trial 36 finished with value: 0.9170344827586207 and parameters: {'learning_rate': 0.012012590621096234, 'n_estimators': 88, 'max_depth': 5, 'subsample': 1.0, 'colsample_bytree': 0.8, 'gamma': 0.1, 'min_child_weight': 3}. Best is trial 30 with value: 0.9092068965517242.\n",
            "[I 2024-01-22 11:30:59,962] Trial 37 finished with value: 0.925448275862069 and parameters: {'learning_rate': 0.08336395449670445, 'n_estimators': 190, 'max_depth': 4, 'subsample': 0.8, 'colsample_bytree': 0.8, 'gamma': 0.1, 'min_child_weight': 2}. Best is trial 30 with value: 0.9092068965517242.\n",
            "[I 2024-01-22 11:31:00,580] Trial 38 finished with value: 0.9095517241379311 and parameters: {'learning_rate': 0.04072074015411832, 'n_estimators': 84, 'max_depth': 3, 'subsample': 1.0, 'colsample_bytree': 1.0, 'gamma': 0, 'min_child_weight': 3}. Best is trial 30 with value: 0.9092068965517242.\n",
            "[I 2024-01-22 11:31:01,536] Trial 39 finished with value: 0.9188620689655173 and parameters: {'learning_rate': 0.026040809789267382, 'n_estimators': 140, 'max_depth': 4, 'subsample': 1.0, 'colsample_bytree': 0.8, 'gamma': 0.1, 'min_child_weight': 4}. Best is trial 30 with value: 0.9092068965517242.\n",
            "[I 2024-01-22 11:31:03,166] Trial 40 finished with value: 0.9215172413793103 and parameters: {'learning_rate': 0.014119047839337174, 'n_estimators': 210, 'max_depth': 5, 'subsample': 0.8, 'colsample_bytree': 0.8, 'gamma': 0.2, 'min_child_weight': 3}. Best is trial 30 with value: 0.9092068965517242.\n",
            "[I 2024-01-22 11:31:03,694] Trial 41 finished with value: 0.9235172413793103 and parameters: {'learning_rate': 0.29270069767067214, 'n_estimators': 83, 'max_depth': 3, 'subsample': 1.0, 'colsample_bytree': 0.8, 'gamma': 0.1, 'min_child_weight': 2}. Best is trial 30 with value: 0.9092068965517242.\n",
            "[I 2024-01-22 11:31:05,097] Trial 42 finished with value: 0.909896551724138 and parameters: {'learning_rate': 0.011659645029968899, 'n_estimators': 267, 'max_depth': 3, 'subsample': 1.0, 'colsample_bytree': 0.8, 'gamma': 0.1, 'min_child_weight': 1}. Best is trial 30 with value: 0.9092068965517242.\n",
            "[I 2024-01-22 11:31:05,619] Trial 43 finished with value: 0.9093103448275862 and parameters: {'learning_rate': 0.013075526671707697, 'n_estimators': 75, 'max_depth': 3, 'subsample': 1.0, 'colsample_bytree': 0.8, 'gamma': 0.1, 'min_child_weight': 2}. Best is trial 30 with value: 0.9092068965517242.\n",
            "[I 2024-01-22 11:31:05,991] Trial 44 finished with value: 0.9190344827586207 and parameters: {'learning_rate': 0.16779458863401728, 'n_estimators': 50, 'max_depth': 3, 'subsample': 1.0, 'colsample_bytree': 1.0, 'gamma': 0.4, 'min_child_weight': 3}. Best is trial 30 with value: 0.9092068965517242.\n",
            "[I 2024-01-22 11:31:06,690] Trial 45 finished with value: 0.9104827586206896 and parameters: {'learning_rate': 0.010600388540510685, 'n_estimators': 94, 'max_depth': 4, 'subsample': 1.0, 'colsample_bytree': 0.8, 'gamma': 0.1, 'min_child_weight': 1}. Best is trial 30 with value: 0.9092068965517242.\n",
            "[I 2024-01-22 11:31:07,557] Trial 46 finished with value: 0.9102068965517242 and parameters: {'learning_rate': 0.019808536381171343, 'n_estimators': 138, 'max_depth': 3, 'subsample': 0.8, 'colsample_bytree': 0.8, 'gamma': 0.1, 'min_child_weight': 2}. Best is trial 30 with value: 0.9092068965517242.\n",
            "[I 2024-01-22 11:31:13,825] Trial 47 finished with value: 0.9376896551724138 and parameters: {'learning_rate': 0.05013446192450071, 'n_estimators': 493, 'max_depth': 8, 'subsample': 1.0, 'colsample_bytree': 0.8, 'gamma': 0.2, 'min_child_weight': 4}. Best is trial 30 with value: 0.9092068965517242.\n",
            "[I 2024-01-22 11:31:14,809] Trial 48 finished with value: 0.924 and parameters: {'learning_rate': 0.02443856267958998, 'n_estimators': 67, 'max_depth': 7, 'subsample': 1.0, 'colsample_bytree': 1.0, 'gamma': 0.1, 'min_child_weight': 3}. Best is trial 30 with value: 0.9092068965517242.\n",
            "[I 2024-01-22 11:31:15,923] Trial 49 finished with value: 0.9106896551724138 and parameters: {'learning_rate': 0.01009769003158955, 'n_estimators': 173, 'max_depth': 4, 'subsample': 1.0, 'colsample_bytree': 0.8, 'gamma': 0.4, 'min_child_weight': 8}. Best is trial 30 with value: 0.9092068965517242.\n",
            "[I 2024-01-22 11:31:16,545] Trial 50 finished with value: 0.9094137931034483 and parameters: {'learning_rate': 0.014056019243315655, 'n_estimators': 99, 'max_depth': 3, 'subsample': 1.0, 'colsample_bytree': 0.8, 'gamma': 0.1, 'min_child_weight': 4}. Best is trial 30 with value: 0.9092068965517242.\n",
            "[I 2024-01-22 11:31:17,083] Trial 51 finished with value: 0.9092413793103449 and parameters: {'learning_rate': 0.012166032282175923, 'n_estimators': 79, 'max_depth': 3, 'subsample': 1.0, 'colsample_bytree': 0.8, 'gamma': 0.1, 'min_child_weight': 2}. Best is trial 30 with value: 0.9092068965517242.\n",
            "[I 2024-01-22 11:31:18,078] Trial 52 finished with value: 0.9274827586206896 and parameters: {'learning_rate': 0.011939511039637266, 'n_estimators': 51, 'max_depth': 9, 'subsample': 1.0, 'colsample_bytree': 0.8, 'gamma': 0.1, 'min_child_weight': 1}. Best is trial 30 with value: 0.9092068965517242.\n",
            "[I 2024-01-22 11:31:18,734] Trial 53 finished with value: 0.9097586206896552 and parameters: {'learning_rate': 0.01892970146428596, 'n_estimators': 105, 'max_depth': 3, 'subsample': 1.0, 'colsample_bytree': 0.8, 'gamma': 0.1, 'min_child_weight': 2}. Best is trial 30 with value: 0.9092068965517242.\n",
            "[I 2024-01-22 11:31:19,521] Trial 54 finished with value: 0.9098620689655172 and parameters: {'learning_rate': 0.017320561294159348, 'n_estimators': 134, 'max_depth': 3, 'subsample': 1.0, 'colsample_bytree': 0.8, 'gamma': 0, 'min_child_weight': 1}. Best is trial 30 with value: 0.9092068965517242.\n",
            "[I 2024-01-22 11:31:20,086] Trial 55 finished with value: 0.9101724137931034 and parameters: {'learning_rate': 0.014921726713660823, 'n_estimators': 67, 'max_depth': 4, 'subsample': 0.8, 'colsample_bytree': 0.8, 'gamma': 0.1, 'min_child_weight': 3}. Best is trial 30 with value: 0.9092068965517242.\n",
            "[I 2024-01-22 11:31:23,925] Trial 56 finished with value: 0.9100689655172414 and parameters: {'learning_rate': 0.011027044217035091, 'n_estimators': 362, 'max_depth': 3, 'subsample': 1.0, 'colsample_bytree': 0.8, 'gamma': 0.1, 'min_child_weight': 2}. Best is trial 30 with value: 0.9092068965517242.\n",
            "[I 2024-01-22 11:31:24,681] Trial 57 finished with value: 0.9100689655172414 and parameters: {'learning_rate': 0.012977021726849088, 'n_estimators': 104, 'max_depth': 4, 'subsample': 1.0, 'colsample_bytree': 1.0, 'gamma': 0.1, 'min_child_weight': 1}. Best is trial 30 with value: 0.9092068965517242.\n",
            "[I 2024-01-22 11:31:30,776] Trial 58 finished with value: 0.9354482758620689 and parameters: {'learning_rate': 0.01720912264923609, 'n_estimators': 157, 'max_depth': 10, 'subsample': 1.0, 'colsample_bytree': 0.8, 'gamma': 0.2, 'min_child_weight': 2}. Best is trial 30 with value: 0.9092068965517242.\n",
            "[I 2024-01-22 11:31:37,510] Trial 59 finished with value: 0.9172413793103448 and parameters: {'learning_rate': 0.01528246771189338, 'n_estimators': 79, 'max_depth': 5, 'subsample': 1.0, 'colsample_bytree': 0.8, 'gamma': 0.1, 'min_child_weight': 3}. Best is trial 30 with value: 0.9092068965517242.\n",
            "[I 2024-01-22 11:31:40,853] Trial 60 finished with value: 0.9093448275862069 and parameters: {'learning_rate': 0.010040917048341093, 'n_estimators': 124, 'max_depth': 3, 'subsample': 1.0, 'colsample_bytree': 0.8, 'gamma': 0.4, 'min_child_weight': 4}. Best is trial 30 with value: 0.9092068965517242.\n",
            "[I 2024-01-22 11:31:42,223] Trial 61 finished with value: 0.9094137931034483 and parameters: {'learning_rate': 0.011826888130091452, 'n_estimators': 71, 'max_depth': 3, 'subsample': 1.0, 'colsample_bytree': 0.8, 'gamma': 0.1, 'min_child_weight': 2}. Best is trial 30 with value: 0.9092068965517242.\n",
            "[I 2024-01-22 11:31:44,068] Trial 62 finished with value: 0.9092413793103449 and parameters: {'learning_rate': 0.013556048228604558, 'n_estimators': 89, 'max_depth': 3, 'subsample': 1.0, 'colsample_bytree': 0.8, 'gamma': 0.1, 'min_child_weight': 2}. Best is trial 30 with value: 0.9092068965517242.\n",
            "[I 2024-01-22 11:31:45,133] Trial 63 finished with value: 0.9093103448275862 and parameters: {'learning_rate': 0.013758452280260137, 'n_estimators': 93, 'max_depth': 3, 'subsample': 1.0, 'colsample_bytree': 0.8, 'gamma': 0.1, 'min_child_weight': 3}. Best is trial 30 with value: 0.9092068965517242.\n",
            "[I 2024-01-22 11:31:49,137] Trial 64 finished with value: 0.9106551724137931 and parameters: {'learning_rate': 0.01582119588400712, 'n_estimators': 107, 'max_depth': 4, 'subsample': 1.0, 'colsample_bytree': 0.8, 'gamma': 0.1, 'min_child_weight': 1}. Best is trial 30 with value: 0.9092068965517242.\n",
            "[I 2024-01-22 11:31:52,512] Trial 65 finished with value: 0.9098620689655172 and parameters: {'learning_rate': 0.022200974852675456, 'n_estimators': 127, 'max_depth': 3, 'subsample': 1.0, 'colsample_bytree': 0.8, 'gamma': 0.1, 'min_child_weight': 2}. Best is trial 30 with value: 0.9092068965517242.\n",
            "[I 2024-01-22 11:31:55,222] Trial 66 finished with value: 0.910448275862069 and parameters: {'learning_rate': 0.01838843360958845, 'n_estimators': 64, 'max_depth': 4, 'subsample': 1.0, 'colsample_bytree': 0.8, 'gamma': 0.1, 'min_child_weight': 3}. Best is trial 30 with value: 0.9092068965517242.\n",
            "[I 2024-01-22 11:31:56,360] Trial 67 finished with value: 0.9096206896551724 and parameters: {'learning_rate': 0.011058058212296254, 'n_estimators': 149, 'max_depth': 3, 'subsample': 0.9, 'colsample_bytree': 0.8, 'gamma': 0, 'min_child_weight': 2}. Best is trial 30 with value: 0.9092068965517242.\n",
            "[I 2024-01-22 11:32:05,504] Trial 68 finished with value: 0.9118620689655172 and parameters: {'learning_rate': 0.012605846440011621, 'n_estimators': 431, 'max_depth': 3, 'subsample': 1.0, 'colsample_bytree': 1.0, 'gamma': 0.1, 'min_child_weight': 5}. Best is trial 30 with value: 0.9092068965517242.\n",
            "[I 2024-01-22 11:32:07,018] Trial 69 finished with value: 0.9097586206896552 and parameters: {'learning_rate': 0.014877644535635767, 'n_estimators': 89, 'max_depth': 4, 'subsample': 0.8, 'colsample_bytree': 0.8, 'gamma': 0.1, 'min_child_weight': 10}. Best is trial 30 with value: 0.9092068965517242.\n",
            "[I 2024-01-22 11:32:08,912] Trial 70 finished with value: 0.9156896551724137 and parameters: {'learning_rate': 0.06900319965184713, 'n_estimators': 116, 'max_depth': 3, 'subsample': 1.0, 'colsample_bytree': 0.9, 'gamma': 0.1, 'min_child_weight': 1}. Best is trial 30 with value: 0.9092068965517242.\n",
            "[I 2024-01-22 11:32:10,987] Trial 71 finished with value: 0.9092413793103449 and parameters: {'learning_rate': 0.01310856689121743, 'n_estimators': 78, 'max_depth': 3, 'subsample': 1.0, 'colsample_bytree': 0.8, 'gamma': 0.1, 'min_child_weight': 2}. Best is trial 30 with value: 0.9092068965517242.\n",
            "[I 2024-01-22 11:32:11,905] Trial 72 finished with value: 0.9096896551724138 and parameters: {'learning_rate': 0.01133726937457182, 'n_estimators': 50, 'max_depth': 3, 'subsample': 1.0, 'colsample_bytree': 0.8, 'gamma': 0.1, 'min_child_weight': 2}. Best is trial 30 with value: 0.9092068965517242.\n",
            "[I 2024-01-22 11:32:13,970] Trial 73 finished with value: 0.9093448275862069 and parameters: {'learning_rate': 0.013367816345055666, 'n_estimators': 61, 'max_depth': 3, 'subsample': 1.0, 'colsample_bytree': 0.8, 'gamma': 0.1, 'min_child_weight': 2}. Best is trial 30 with value: 0.9092068965517242.\n",
            "[I 2024-01-22 11:32:17,365] Trial 74 finished with value: 0.9240689655172414 and parameters: {'learning_rate': 0.1300577287759125, 'n_estimators': 82, 'max_depth': 4, 'subsample': 1.0, 'colsample_bytree': 0.8, 'gamma': 0.1, 'min_child_weight': 1}. Best is trial 30 with value: 0.9092068965517242.\n",
            "[I 2024-01-22 11:32:19,577] Trial 75 finished with value: 0.9094137931034483 and parameters: {'learning_rate': 0.016195765078360267, 'n_estimators': 109, 'max_depth': 3, 'subsample': 1.0, 'colsample_bytree': 0.8, 'gamma': 0.1, 'min_child_weight': 3}. Best is trial 30 with value: 0.9092068965517242.\n",
            "[I 2024-01-22 11:32:20,946] Trial 76 finished with value: 0.9092758620689655 and parameters: {'learning_rate': 0.012658605965328492, 'n_estimators': 96, 'max_depth': 3, 'subsample': 1.0, 'colsample_bytree': 0.9, 'gamma': 0.2, 'min_child_weight': 2}. Best is trial 30 with value: 0.9092068965517242.\n",
            "[I 2024-01-22 11:32:22,926] Trial 77 finished with value: 0.9104827586206896 and parameters: {'learning_rate': 0.014386419215403666, 'n_estimators': 96, 'max_depth': 4, 'subsample': 1.0, 'colsample_bytree': 0.9, 'gamma': 0.2, 'min_child_weight': 6}. Best is trial 30 with value: 0.9092068965517242.\n",
            "[I 2024-01-22 11:32:31,386] Trial 78 finished with value: 0.9097931034482759 and parameters: {'learning_rate': 0.010732151157767815, 'n_estimators': 285, 'max_depth': 3, 'subsample': 0.9, 'colsample_bytree': 0.9, 'gamma': 0.2, 'min_child_weight': 3}. Best is trial 30 with value: 0.9092068965517242.\n",
            "[I 2024-01-22 11:32:33,720] Trial 79 finished with value: 0.9214137931034483 and parameters: {'learning_rate': 0.01222732818366955, 'n_estimators': 135, 'max_depth': 6, 'subsample': 1.0, 'colsample_bytree': 0.9, 'gamma': 0.2, 'min_child_weight': 4}. Best is trial 30 with value: 0.9092068965517242.\n",
            "[I 2024-01-22 11:32:36,095] Trial 80 finished with value: 0.9102068965517242 and parameters: {'learning_rate': 0.017929162090963797, 'n_estimators': 73, 'max_depth': 4, 'subsample': 1.0, 'colsample_bytree': 0.9, 'gamma': 0.2, 'min_child_weight': 2}. Best is trial 30 with value: 0.9092068965517242.\n",
            "[I 2024-01-22 11:32:37,332] Trial 81 finished with value: 0.9092758620689655 and parameters: {'learning_rate': 0.012982091388495688, 'n_estimators': 87, 'max_depth': 3, 'subsample': 1.0, 'colsample_bytree': 0.9, 'gamma': 0.1, 'min_child_weight': 2}. Best is trial 30 with value: 0.9092068965517242.\n",
            "[I 2024-01-22 11:32:37,928] Trial 82 finished with value: 0.9092413793103449 and parameters: {'learning_rate': 0.013146823563835263, 'n_estimators': 92, 'max_depth': 3, 'subsample': 1.0, 'colsample_bytree': 0.9, 'gamma': 0.1, 'min_child_weight': 2}. Best is trial 30 with value: 0.9092068965517242.\n",
            "[I 2024-01-22 11:32:38,378] Trial 83 finished with value: 0.9086551724137931 and parameters: {'learning_rate': 0.010007855124323495, 'n_estimators': 61, 'max_depth': 3, 'subsample': 1.0, 'colsample_bytree': 0.9, 'gamma': 0.4, 'min_child_weight': 1}. Best is trial 83 with value: 0.9086551724137931.\n",
            "[I 2024-01-22 11:32:40,136] Trial 84 finished with value: 0.908896551724138 and parameters: {'learning_rate': 0.011124859771260369, 'n_estimators': 60, 'max_depth': 3, 'subsample': 1.0, 'colsample_bytree': 0.9, 'gamma': 0.4, 'min_child_weight': 1}. Best is trial 83 with value: 0.9086551724137931.\n",
            "[I 2024-01-22 11:32:41,265] Trial 85 finished with value: 0.908896551724138 and parameters: {'learning_rate': 0.010117840840950654, 'n_estimators': 63, 'max_depth': 3, 'subsample': 1.0, 'colsample_bytree': 0.9, 'gamma': 0.4, 'min_child_weight': 1}. Best is trial 83 with value: 0.9086551724137931.\n",
            "[I 2024-01-22 11:32:41,763] Trial 86 finished with value: 0.9087931034482759 and parameters: {'learning_rate': 0.01109872394242644, 'n_estimators': 65, 'max_depth': 3, 'subsample': 1.0, 'colsample_bytree': 0.9, 'gamma': 0.4, 'min_child_weight': 1}. Best is trial 83 with value: 0.9086551724137931.\n",
            "[I 2024-01-22 11:32:42,927] Trial 87 finished with value: 0.9277586206896552 and parameters: {'learning_rate': 0.010199563861738422, 'n_estimators': 62, 'max_depth': 9, 'subsample': 0.8, 'colsample_bytree': 0.9, 'gamma': 0.4, 'min_child_weight': 1}. Best is trial 83 with value: 0.9086551724137931.\n",
            "[I 2024-01-22 11:32:43,379] Trial 88 finished with value: 0.9086551724137931 and parameters: {'learning_rate': 0.011461778102022032, 'n_estimators': 61, 'max_depth': 3, 'subsample': 1.0, 'colsample_bytree': 0.9, 'gamma': 0.4, 'min_child_weight': 1}. Best is trial 83 with value: 0.9086551724137931.\n",
            "[I 2024-01-22 11:32:43,901] Trial 89 finished with value: 0.9105517241379311 and parameters: {'learning_rate': 0.011022789316547165, 'n_estimators': 61, 'max_depth': 4, 'subsample': 1.0, 'colsample_bytree': 0.9, 'gamma': 0.4, 'min_child_weight': 1}. Best is trial 83 with value: 0.9086551724137931.\n",
            "[I 2024-01-22 11:32:44,293] Trial 90 finished with value: 0.907448275862069 and parameters: {'learning_rate': 0.011129675225225455, 'n_estimators': 50, 'max_depth': 3, 'subsample': 1.0, 'colsample_bytree': 0.9, 'gamma': 0.4, 'min_child_weight': 1}. Best is trial 90 with value: 0.907448275862069.\n",
            "[I 2024-01-22 11:32:44,745] Trial 91 finished with value: 0.9073793103448275 and parameters: {'learning_rate': 0.010044370709321186, 'n_estimators': 50, 'max_depth': 3, 'subsample': 1.0, 'colsample_bytree': 0.9, 'gamma': 0.4, 'min_child_weight': 1}. Best is trial 91 with value: 0.9073793103448275.\n",
            "[I 2024-01-22 11:32:45,216] Trial 92 finished with value: 0.9086551724137931 and parameters: {'learning_rate': 0.010089949940430753, 'n_estimators': 58, 'max_depth': 3, 'subsample': 1.0, 'colsample_bytree': 0.9, 'gamma': 0.4, 'min_child_weight': 1}. Best is trial 91 with value: 0.9073793103448275.\n",
            "[I 2024-01-22 11:32:45,663] Trial 93 finished with value: 0.9086551724137931 and parameters: {'learning_rate': 0.01005818322540813, 'n_estimators': 55, 'max_depth': 3, 'subsample': 1.0, 'colsample_bytree': 0.9, 'gamma': 0.4, 'min_child_weight': 1}. Best is trial 91 with value: 0.9073793103448275.\n",
            "[I 2024-01-22 11:32:46,054] Trial 94 finished with value: 0.9073793103448275 and parameters: {'learning_rate': 0.010006778576150233, 'n_estimators': 50, 'max_depth': 3, 'subsample': 1.0, 'colsample_bytree': 0.9, 'gamma': 0.4, 'min_child_weight': 1}. Best is trial 91 with value: 0.9073793103448275.\n",
            "[I 2024-01-22 11:32:46,442] Trial 95 finished with value: 0.9073793103448275 and parameters: {'learning_rate': 0.010024725482619668, 'n_estimators': 50, 'max_depth': 3, 'subsample': 1.0, 'colsample_bytree': 0.9, 'gamma': 0.4, 'min_child_weight': 1}. Best is trial 91 with value: 0.9073793103448275.\n",
            "[I 2024-01-22 11:32:46,878] Trial 96 finished with value: 0.9086551724137931 and parameters: {'learning_rate': 0.011164941588601386, 'n_estimators': 55, 'max_depth': 3, 'subsample': 1.0, 'colsample_bytree': 0.9, 'gamma': 0.4, 'min_child_weight': 1}. Best is trial 91 with value: 0.9073793103448275.\n",
            "[I 2024-01-22 11:32:47,321] Trial 97 finished with value: 0.9090344827586206 and parameters: {'learning_rate': 0.010769625240400883, 'n_estimators': 56, 'max_depth': 3, 'subsample': 0.9, 'colsample_bytree': 0.9, 'gamma': 0.4, 'min_child_weight': 1}. Best is trial 91 with value: 0.9073793103448275.\n",
            "[I 2024-01-22 11:32:47,740] Trial 98 finished with value: 0.9086551724137931 and parameters: {'learning_rate': 0.011369736810974612, 'n_estimators': 52, 'max_depth': 3, 'subsample': 1.0, 'colsample_bytree': 0.9, 'gamma': 0.4, 'min_child_weight': 1}. Best is trial 91 with value: 0.9073793103448275.\n",
            "[I 2024-01-22 11:32:48,187] Trial 99 finished with value: 0.9105172413793103 and parameters: {'learning_rate': 0.010124472921130454, 'n_estimators': 50, 'max_depth': 4, 'subsample': 1.0, 'colsample_bytree': 0.9, 'gamma': 0.4, 'min_child_weight': 1}. Best is trial 91 with value: 0.9073793103448275.\n"
          ]
        }
      ],
      "source": [
        "\n",
        "# Create a study object and optimize the objective function\n",
        "study = optuna.create_study(direction=\"minimize\")  # Minimize because we want to minimize 1.0 - accuracy\n",
        "study.optimize(lambda trial: objective(trial, X_scaled_train, y_train, X_scaled_test, y_test), n_trials=100)\n"
      ]
    },
    {
      "cell_type": "code",
      "execution_count": 52,
      "metadata": {
        "colab": {
          "base_uri": "https://localhost:8080/"
        },
        "id": "cYKrOgb2beHE",
        "outputId": "14a03d65-7e18-4250-efaa-e8d03bcbfe04"
      },
      "outputs": [
        {
          "name": "stdout",
          "output_type": "stream",
          "text": [
            "Best Hyperparameters: {'learning_rate': 0.010044370709321186, 'n_estimators': 50, 'max_depth': 3, 'subsample': 1.0, 'colsample_bytree': 0.9, 'gamma': 0.4, 'min_child_weight': 1}\n"
          ]
        }
      ],
      "source": [
        "# Get the best hyperparameters\n",
        "best_params = study.best_params\n",
        "print(\"Best Hyperparameters:\", best_params)"
      ]
    },
    {
      "cell_type": "code",
      "execution_count": 53,
      "metadata": {
        "colab": {
          "base_uri": "https://localhost:8080/"
        },
        "id": "0Aiqh-V779G8",
        "outputId": "a8e00183-14a8-442c-f2d5-fa56df1d8402"
      },
      "outputs": [
        {
          "name": "stdout",
          "output_type": "stream",
          "text": [
            "Testing Data\n",
            "Accuracy of XGBClassifier using HyperOPT: 0.9100689655172414\n",
            "Precision: 0.881242626818718\n",
            "Recall: 0.9389664804469273\n",
            "F2 Score: 0.9268245609197936\n",
            "Trainind Data\n",
            "Accuracy of XGBClassifier using HyperOPT: 0.9056206896551724\n",
            "Precision: 0.8808220060555305\n",
            "Recall: 0.9390796703296703\n",
            "F2 Score: 0.9268196792429808\n"
          ]
        }
      ],
      "source": [
        "from xgboost import XGBClassifier\n",
        "from sklearn.metrics import accuracy_score , precision_score, fbeta_score, confusion_matrix\n",
        "\n",
        "xgb_opt = XGBClassifier(\n",
        "    learning_rate=best_params['learning_rate'],\n",
        "    n_estimators =best_params['n_estimators'],\n",
        "    max_depth=best_params['max_depth'],\n",
        "    min_child_weight=best_params['min_child_weight'],\n",
        "    subsample=best_params['subsample'],\n",
        "    colsample_bytree=best_params['colsample_bytree']\n",
        ")\n",
        "\n",
        "xgb_opt.fit(X_scaled_train, y_train)\n",
        "\n",
        "# Evaluate the performance of the XGBoost classifier\n",
        "y_pred_xgb_opt = xgb_opt.predict(X_scaled_test)\n",
        "score_xgb_opt = accuracy_score(y_test, y_pred_xgb_opt)\n",
        "\n",
        "y_true = y_test\n",
        "y_pred = y_pred_xgb_opt\n",
        "\n",
        "# Assuming y_true contains the true labels and y_pred contains the predicted labels\n",
        "precision = precision_score(y_true, y_pred)\n",
        "conf_matrix = confusion_matrix(y_true, y_pred)\n",
        "recall = conf_matrix[1, 1] / (conf_matrix[1, 1] + conf_matrix[1, 0])\n",
        "f2_score = fbeta_score(y_true, y_pred, beta=2)\n",
        "print('Testing Data')\n",
        "print('Accuracy of XGBClassifier using HyperOPT:', score_xgb_hyp)\n",
        "print(f'Precision: {precision}')\n",
        "print(f'Recall: {recall}')\n",
        "print(f'F2 Score: {f2_score}')\n",
        "\n",
        "y_true = y_train\n",
        "y_pred = xgb_opt.predict(X_scaled_train)\n",
        "\n",
        "# Assuming y_true contains the true labels and y_pred contains the predicted labels\n",
        "accuracy = accuracy_score(y_true,y_pred)\n",
        "precision = precision_score(y_true, y_pred)\n",
        "conf_matrix = confusion_matrix(y_true, y_pred)\n",
        "recall = conf_matrix[1, 1] / (conf_matrix[1, 1] + conf_matrix[1, 0])\n",
        "f2_score = fbeta_score(y_true, y_pred, beta=2)\n",
        "print('Trainind Data')\n",
        "print('Accuracy of XGBClassifier using HyperOPT:', accuracy)\n",
        "print(f'Precision: {precision}')\n",
        "print(f'Recall: {recall}')\n",
        "print(f'F2 Score: {f2_score}')"
      ]
    },
    {
      "cell_type": "code",
      "execution_count": 54,
      "metadata": {
        "colab": {
          "base_uri": "https://localhost:8080/"
        },
        "id": "Bj1tMmMg8jkF",
        "outputId": "018d07a3-3c78-4640-9920-57518aa654a6"
      },
      "outputs": [
        {
          "name": "stdout",
          "output_type": "stream",
          "text": [
            "Accuracy   0.8348196777218859\n",
            "Precision: 0.8418357361863136\n",
            "Recall: 0.8421378927790648\n",
            "F2 Score: 0.8420774441094709\n"
          ]
        }
      ],
      "source": [
        "df3 = pd.read_csv('/content/dataset_small.csv')\n",
        "df3 = df3[list(df2.columns)]\n",
        "X2 = df3.drop(columns='phishing',axis=1)\n",
        "Y2 = df3['phishing']\n",
        "X2 = pca.fit_transform(X2)\n",
        "X2 = scaler.transform(X2)\n",
        "ypred2 = xgb_opt.predict(X2)\n",
        "accuracy = accuracy_score(Y2,ypred2)\n",
        "print('Accuracy  ' ,accuracy)\n",
        "y_true = Y2\n",
        "y_pred = ypred2\n",
        "from sklearn.metrics import precision_score, fbeta_score, confusion_matrix\n",
        "\n",
        "# Assuming y_true contains the true labels and y_pred contains the predicted labels\n",
        "precision = precision_score(y_true, y_pred)\n",
        "conf_matrix = confusion_matrix(y_true, y_pred)\n",
        "recall = conf_matrix[1, 1] / (conf_matrix[1, 1] + conf_matrix[1, 0])\n",
        "f2_score = fbeta_score(y_true, y_pred, beta=2)\n",
        "\n",
        "print(f'Precision: {precision}')\n",
        "print(f'Recall: {recall}')\n",
        "print(f'F2 Score: {f2_score}')"
      ]
    },
    {
      "cell_type": "code",
      "execution_count": 57,
      "metadata": {
        "colab": {
          "base_uri": "https://localhost:8080/"
        },
        "id": "bn752IkL9v6I",
        "outputId": "46c58075-c678-4b6a-ff4c-ac4eae938581"
      },
      "outputs": [
        {
          "data": {
            "text/plain": [
              "['/content/xgb_opt.joblib']"
            ]
          },
          "execution_count": 57,
          "metadata": {},
          "output_type": "execute_result"
        }
      ],
      "source": [
        "import joblib\n",
        "\n",
        "joblib.dump(xgb_hyp, '/content/xgb_opt.joblib')\n"
      ]
    },
    {
      "cell_type": "markdown",
      "metadata": {
        "id": "BUvwrqbuBMg_"
      },
      "source": [
        "# **Data Extraction From Url**"
      ]
    },
    {
      "cell_type": "code",
      "execution_count": 60,
      "metadata": {
        "id": "B981Fz_S-xPR"
      },
      "outputs": [],
      "source": [
        "import numpy as np\n",
        "from urllib.parse import urlparse, parse_qs\n",
        "import joblib\n",
        "import socket\n",
        "\n",
        "def is_ip_address(domain):\n",
        "    try:\n",
        "        socket.inet_aton(domain)\n",
        "        return True\n",
        "    except socket.error:\n",
        "        return False\n",
        "\n",
        "def extract_additional_url_features(url):\n",
        "    parsed_url = urlparse(url)\n",
        "\n",
        "    return {\n",
        "        'qty_dot_url': url.count('.'),\n",
        "        'qty_hyphen_url': url.count('-'),\n",
        "        'qty_underline_url': url.count('_'),\n",
        "        'qty_slash_url': url.count('/'),\n",
        "        'qty_questionmark_url': url.count('?'),\n",
        "        'qty_equal_url': url.count('='),\n",
        "        'qty_at_url': url.count('@'),\n",
        "        'qty_exclamation_url': url.count('!'),\n",
        "        'qty_space_url': url.count(' '),\n",
        "        'qty_tilde_url': url.count('~'),\n",
        "        'qty_comma_url': url.count(','),\n",
        "        'qty_plus_url': url.count('+'),\n",
        "        'qty_asterisk_url': url.count('*'),\n",
        "        'qty_hashtag_url': url.count('#'),\n",
        "        'qty_dollar_url': url.count('$'),\n",
        "        'qty_percent_url': url.count('%'),\n",
        "        'qty_tld_url': len(parsed_url.netloc.split('.')[-1]),\n",
        "        'length_url': len(url)\n",
        "    }\n",
        "\n",
        "def extract_additional_domain_features(url):\n",
        "    # Parse the URL to get the domain\n",
        "    domain = urlparse(url).netloc\n",
        "\n",
        "    if not domain:\n",
        "        return {\n",
        "            'qty_dot_domain': -1,\n",
        "            'qty_hyphen_domain': -1,\n",
        "            'qty_underline_domain': -1,\n",
        "            'qty_at_domain': -1,\n",
        "            'qty_vowels_domain': -1,\n",
        "            'domain_in_ip': -1,\n",
        "            'server_client_domain': -1\n",
        "        }\n",
        "\n",
        "    return {\n",
        "        'qty_dot_domain': domain.count('.'),\n",
        "        'qty_hyphen_domain': domain.count('-'),\n",
        "        'qty_underline_domain': domain.count('_'),\n",
        "        'qty_at_domain': domain.count('@'),\n",
        "        'qty_vowels_domain': sum(1 for char in domain if char.lower() in \"aeiou\"),\n",
        "        'domain_in_ip': 1 if is_ip_address(domain) else 0,\n",
        "        'server_client_domain': 1 if domain.startswith(\"www.\") else 0\n",
        "    }\n",
        "\n",
        "def extract_additional_path_features(url):\n",
        "    # Parse the URL to get the path\n",
        "    path = urlparse(url).path\n",
        "\n",
        "    if not path:\n",
        "        return {\n",
        "            'qty_dot_directory': -1,\n",
        "            'qty_hyphen_directory': -1,\n",
        "            'qty_underline_directory': -1,\n",
        "            'qty_percent_directory': -1,\n",
        "            'directory_length': -1\n",
        "        }\n",
        "\n",
        "    return {\n",
        "        'qty_dot_directory': path.count('.'),\n",
        "        'qty_hyphen_directory': path.count('-'),\n",
        "        'qty_underline_directory': path.count('_'),\n",
        "        'qty_percent_directory': path.count('%'),\n",
        "        'directory_length': len(path)\n",
        "    }\n",
        "\n",
        "def extract_file_features(url):\n",
        "    # Parse the URL to get the path\n",
        "    path = urlparse(url).path\n",
        "\n",
        "    if not path:\n",
        "        return {\n",
        "            'file_length': -1\n",
        "        }\n",
        "\n",
        "    # Extract the file name from the path\n",
        "    file_name = path.split('/')[-1]\n",
        "\n",
        "    # Attribute: Length of the file name\n",
        "    file_length = len(file_name)\n",
        "\n",
        "    return {\n",
        "        'file_length': file_length\n",
        "    }\n",
        "\n",
        "def extract_additional_params_features(url):\n",
        "    # Parse the URL to get the query parameters\n",
        "    query_params = urlparse(url).query\n",
        "\n",
        "    if not query_params:\n",
        "        return {\n",
        "            'qty_dot_params': -1,\n",
        "            'qty_hyphen_params': -1,\n",
        "            'qty_underline_params': -1,\n",
        "            'qty_slash_params': -1,\n",
        "            'qty_questionmark_params': -1,\n",
        "            'qty_percent_params': -1\n",
        "        }\n",
        "\n",
        "    # Extract parameter names from the query string\n",
        "    param_names = parse_qs(query_params).keys()\n",
        "\n",
        "    return {\n",
        "        'qty_dot_params': sum(param.count('.') for param in param_names),\n",
        "        'qty_hyphen_params': sum(param.count('-') for param in param_names),\n",
        "        'qty_underline_params': sum(param.count('_') for param in param_names),\n",
        "        'qty_slash_params': sum(param.count('/') for param in param_names),\n",
        "        'qty_questionmark_params': sum(param.count('?') for param in param_names),\n",
        "        'qty_percent_params': sum(param.count('%') for param in param_names)\n",
        "    }\n",
        "\n",
        "def email_urlshorten(url):\n",
        "    # Parse the URL\n",
        "    parsed_url = urlparse(url)\n",
        "\n",
        "    # Extract the domain from the URL\n",
        "    domain = parsed_url.netloc\n",
        "\n",
        "    if not domain:\n",
        "        return {\n",
        "            'email_in_url': -1,\n",
        "            'tls_ssl_certificate' : -1,\n",
        "            'url_shortened': -1\n",
        "        }\n",
        "\n",
        "    return {\n",
        "        'email_in_url': 1 if '@' in url else 0,\n",
        "        'tls_ssl_certificate' : 1 if url.startswith(\"https://\") else 0,\n",
        "        'url_shortened': 1 if domain in ['bit.ly', 'goo.gl', 'tinyurl.com', 'ow.ly'] else 0\n",
        "    }\n",
        "\n",
        "def extract_all_features(url):\n",
        "    # Extract URL-based features\n",
        "    url_features = extract_additional_url_features(url)\n",
        "\n",
        "    # Extract Domain-based features\n",
        "    domain_features = extract_additional_domain_features(url)\n",
        "\n",
        "    # Extract Page-based features\n",
        "    path_features = extract_additional_path_features(url)\n",
        "\n",
        "    # Extract File-based feature\n",
        "    file_feature = extract_file_features(url)\n",
        "\n",
        "    # Extract Params-based features\n",
        "    params_features = extract_additional_params_features(url)\n",
        "\n",
        "    # Extract Additional Features\n",
        "    additional_features = email_urlshorten(url)\n",
        "\n",
        "    # Combine all features\n",
        "    all_features = {**url_features, **domain_features, **path_features, **file_feature, **params_features, **additional_features}\n",
        "\n",
        "    return all_features\n"
      ]
    },
    {
      "cell_type": "markdown",
      "metadata": {
        "id": "lE7ySeQUFkFk"
      },
      "source": [
        "# **Testing**"
      ]
    },
    {
      "cell_type": "markdown",
      "metadata": {
        "id": "0ozNQN1rFpCa"
      },
      "source": [
        "# HyperOPT XGBClassifier"
      ]
    },
    {
      "cell_type": "code",
      "execution_count": 62,
      "metadata": {
        "colab": {
          "base_uri": "https://localhost:8080/"
        },
        "id": "16fxWF_rh29q",
        "outputId": "14cd8ffa-6fe8-44d6-e350-b1081135c78d"
      },
      "outputs": [
        {
          "name": "stdout",
          "output_type": "stream",
          "text": [
            "[1]\n"
          ]
        },
        {
          "name": "stderr",
          "output_type": "stream",
          "text": [
            "/usr/local/lib/python3.10/dist-packages/sklearn/base.py:439: UserWarning: X does not have valid feature names, but PCA was fitted with feature names\n",
            "  warnings.warn(\n"
          ]
        }
      ],
      "source": [
        "url = \"http://app.validchk.com/visitqr.aspx?vid=1073653\"\n",
        "# http://app.validchk.com/visitqr.aspx?vid=1073653\n",
        "extracted_features = extract_all_features(url)\n",
        "\n",
        "# Extract features and reshape into a 2D array\n",
        "data = np.array(list(extracted_features.values())).reshape(1, -1)\n",
        "\n",
        "# Assuming you have a PCA object\n",
        "pca_transformed_data = pca.transform(data)\n",
        "\n",
        "# Assuming you have a scaler object\n",
        "scaled_data = scaler.transform(pca_transformed_data)\n",
        "\n",
        "\n",
        "# Use the trained XGBBoost for prediction\n",
        "prediction = xgb_hyp.predict(scaled_data)\n",
        "print(prediction)"
      ]
    },
    {
      "cell_type": "markdown",
      "metadata": {
        "id": "1TmevFO3Fzz9"
      },
      "source": [
        "# HyperOPT Random Forest Classifier"
      ]
    },
    {
      "cell_type": "code",
      "execution_count": null,
      "metadata": {
        "colab": {
          "base_uri": "https://localhost:8080/"
        },
        "id": "O8HgXvj9iKAx",
        "outputId": "9458c4dd-ef24-4c63-cbbc-229846a4c457"
      },
      "outputs": [
        {
          "data": {
            "text/plain": [
              "array([[ 3.89625317, -2.77028969, -1.01534515, -1.5399523 , -1.37525167,\n",
              "         3.87685379, -1.00835236,  4.63073484,  5.3159082 , -7.51699881,\n",
              "        -4.32969553,  5.15898124, -0.03700143,  0.6175854 , -2.4718587 ,\n",
              "        -4.37237251, -1.51808813, -3.84874513, -3.22719764,  2.09611946]])"
            ]
          },
          "execution_count": 21,
          "metadata": {},
          "output_type": "execute_result"
        }
      ],
      "source": [
        "url = \"http://app.validchk.com/visitqr.aspx?vid=1073653\"\n",
        "extracted_features = extract_all_features(url)\n",
        "\n",
        "# Extract features and reshape into a 2D array\n",
        "data = np.array(list(extracted_features.values())).reshape(1, -1)\n",
        "\n",
        "# Assuming you have a scaler object\n",
        "scaled_data = scaler.transform(data)\n",
        "\n",
        "# Assuming you have a PCA object\n",
        "pca_transformed_data = pca.transform(scaled_data)\n",
        "\n",
        "# Use the trained XGBBoost for prediction\n",
        "prediction = rf_hyp.predict(pca_transformed_data)\n",
        "print(prediction)"
      ]
    },
    {
      "cell_type": "markdown",
      "metadata": {
        "id": "8SnUxyGDMgYa"
      },
      "source": [
        "# TPOTClassifier Xgboost"
      ]
    },
    {
      "cell_type": "code",
      "execution_count": null,
      "metadata": {
        "colab": {
          "base_uri": "https://localhost:8080/"
        },
        "id": "mEK68uikMQpe",
        "outputId": "775903fc-9b2b-4c7d-cc4d-c00275389d2c"
      },
      "outputs": [
        {
          "name": "stdout",
          "output_type": "stream",
          "text": [
            "[1]\n"
          ]
        },
        {
          "name": "stderr",
          "output_type": "stream",
          "text": [
            "/usr/local/lib/python3.10/dist-packages/sklearn/base.py:439: UserWarning: X does not have valid feature names, but StandardScaler was fitted with feature names\n",
            "  warnings.warn(\n"
          ]
        }
      ],
      "source": [
        "url = \"http://app.validchk.com/visitqr.aspx?vid=1073653\"\n",
        "extracted_features = extract_all_features(url)\n",
        "# Load the fitted pipeline\n",
        "loaded_pipeline = joblib.load('/content/tpot_xgbclassifier_pipeline.joblib')\n",
        "\n",
        "# Now you can use loaded_pipeline for predictions\n",
        "\n",
        "# Extract features and reshape into a 2D array\n",
        "data = np.array(list(extracted_features.values())).reshape(1, -1)\n",
        "\n",
        "# Assuming you have a scaler object\n",
        "scaled_data = scaler.transform(data)\n",
        "\n",
        "# Assuming you have a PCA object\n",
        "pca_transformed_data = pca.transform(scaled_data)\n",
        "\n",
        "# Use the trained XGBBoost for prediction\n",
        "#prediction = loaded_pipeline.predict(pca_transformed_data)\n",
        "prediction = tpot.predict(pca_transformed_data)\n",
        "\n",
        "print(prediction)"
      ]
    },
    {
      "cell_type": "markdown",
      "metadata": {
        "id": "E_GDztv0MqOn"
      },
      "source": [
        "# TPOTClassifier Random Forest"
      ]
    },
    {
      "cell_type": "code",
      "execution_count": null,
      "metadata": {
        "id": "-wqR2Hf9MtW3"
      },
      "outputs": [],
      "source": [
        "url = \"http://app.validchk.com/visitqr.aspx?vid=1073653\"\n",
        "extracted_features = extract_all_features(url)\n",
        "\n",
        "# Extract features and reshape into a 2D array\n",
        "data = np.array(list(extracted_features.values())).reshape(1, -1)\n",
        "\n",
        "# Assuming you have a scaler object\n",
        "scaled_data = scaler.transform(data)\n",
        "\n",
        "# Assuming you have a PCA object\n",
        "pca_transformed_data = pca.transform(scaled_data)\n",
        "\n",
        "# Use the trained XGBBoost for prediction\n",
        "prediction = xgb_hyp.predict(pca_transformed_data)\n",
        "print(prediction)"
      ]
    }
  ],
  "metadata": {
    "accelerator": "GPU",
    "colab": {
      "collapsed_sections": [
        "ipvP43lnCQhZ",
        "4MuSA1eECgOT",
        "UjTh0ZiiK9Q7",
        "Tz6xtwSmKzoP",
        "bF_ifrsvQtTg",
        "1TmevFO3Fzz9",
        "8SnUxyGDMgYa"
      ],
      "gpuType": "T4",
      "provenance": []
    },
    "kernelspec": {
      "display_name": "Python 3",
      "name": "python3"
    },
    "language_info": {
      "name": "python",
      "version": "3.8.0"
    },
    "widgets": {
      "application/vnd.jupyter.widget-state+json": {
        "0c041ee5425b4bd1bdbbfe43f8f83cf8": {
          "model_module": "@jupyter-widgets/base",
          "model_module_version": "1.2.0",
          "model_name": "LayoutModel",
          "state": {
            "_model_module": "@jupyter-widgets/base",
            "_model_module_version": "1.2.0",
            "_model_name": "LayoutModel",
            "_view_count": null,
            "_view_module": "@jupyter-widgets/base",
            "_view_module_version": "1.2.0",
            "_view_name": "LayoutView",
            "align_content": null,
            "align_items": null,
            "align_self": null,
            "border": null,
            "bottom": null,
            "display": null,
            "flex": null,
            "flex_flow": null,
            "grid_area": null,
            "grid_auto_columns": null,
            "grid_auto_flow": null,
            "grid_auto_rows": null,
            "grid_column": null,
            "grid_gap": null,
            "grid_row": null,
            "grid_template_areas": null,
            "grid_template_columns": null,
            "grid_template_rows": null,
            "height": null,
            "justify_content": null,
            "justify_items": null,
            "left": null,
            "margin": null,
            "max_height": null,
            "max_width": null,
            "min_height": null,
            "min_width": null,
            "object_fit": null,
            "object_position": null,
            "order": null,
            "overflow": null,
            "overflow_x": null,
            "overflow_y": null,
            "padding": null,
            "right": null,
            "top": null,
            "visibility": "hidden",
            "width": null
          }
        },
        "11c4de07d6cb4eb39294300e2d640857": {
          "model_module": "@jupyter-widgets/controls",
          "model_module_version": "1.5.0",
          "model_name": "ProgressStyleModel",
          "state": {
            "_model_module": "@jupyter-widgets/controls",
            "_model_module_version": "1.5.0",
            "_model_name": "ProgressStyleModel",
            "_view_count": null,
            "_view_module": "@jupyter-widgets/base",
            "_view_module_version": "1.2.0",
            "_view_name": "StyleView",
            "bar_color": null,
            "description_width": ""
          }
        },
        "17496a7dbc71420e88086278f3eb1c1b": {
          "model_module": "@jupyter-widgets/controls",
          "model_module_version": "1.5.0",
          "model_name": "DescriptionStyleModel",
          "state": {
            "_model_module": "@jupyter-widgets/controls",
            "_model_module_version": "1.5.0",
            "_model_name": "DescriptionStyleModel",
            "_view_count": null,
            "_view_module": "@jupyter-widgets/base",
            "_view_module_version": "1.2.0",
            "_view_name": "StyleView",
            "description_width": ""
          }
        },
        "1a37d338db65463c99f0db08eda59ba5": {
          "model_module": "@jupyter-widgets/controls",
          "model_module_version": "1.5.0",
          "model_name": "HTMLModel",
          "state": {
            "_dom_classes": [],
            "_model_module": "@jupyter-widgets/controls",
            "_model_module_version": "1.5.0",
            "_model_name": "HTMLModel",
            "_view_count": null,
            "_view_module": "@jupyter-widgets/controls",
            "_view_module_version": "1.5.0",
            "_view_name": "HTMLView",
            "description": "",
            "description_tooltip": null,
            "layout": "IPY_MODEL_561a1a8061044521935fa0d0672646a8",
            "placeholder": "​",
            "style": "IPY_MODEL_33555436828445df9721c64466ff2622",
            "value": " 120/120 [51:30&lt;00:00, 29.78s/pipeline]"
          }
        },
        "2a9e0b1b61b74276991bc0746c7fb107": {
          "model_module": "@jupyter-widgets/base",
          "model_module_version": "1.2.0",
          "model_name": "LayoutModel",
          "state": {
            "_model_module": "@jupyter-widgets/base",
            "_model_module_version": "1.2.0",
            "_model_name": "LayoutModel",
            "_view_count": null,
            "_view_module": "@jupyter-widgets/base",
            "_view_module_version": "1.2.0",
            "_view_name": "LayoutView",
            "align_content": null,
            "align_items": null,
            "align_self": null,
            "border": null,
            "bottom": null,
            "display": null,
            "flex": null,
            "flex_flow": null,
            "grid_area": null,
            "grid_auto_columns": null,
            "grid_auto_flow": null,
            "grid_auto_rows": null,
            "grid_column": null,
            "grid_gap": null,
            "grid_row": null,
            "grid_template_areas": null,
            "grid_template_columns": null,
            "grid_template_rows": null,
            "height": null,
            "justify_content": null,
            "justify_items": null,
            "left": null,
            "margin": null,
            "max_height": null,
            "max_width": null,
            "min_height": null,
            "min_width": null,
            "object_fit": null,
            "object_position": null,
            "order": null,
            "overflow": null,
            "overflow_x": null,
            "overflow_y": null,
            "padding": null,
            "right": null,
            "top": null,
            "visibility": null,
            "width": null
          }
        },
        "30b0cf369cba48e985a134889c8ad24d": {
          "model_module": "@jupyter-widgets/controls",
          "model_module_version": "1.5.0",
          "model_name": "HTMLModel",
          "state": {
            "_dom_classes": [],
            "_model_module": "@jupyter-widgets/controls",
            "_model_module_version": "1.5.0",
            "_model_name": "HTMLModel",
            "_view_count": null,
            "_view_module": "@jupyter-widgets/controls",
            "_view_module_version": "1.5.0",
            "_view_name": "HTMLView",
            "description": "",
            "description_tooltip": null,
            "layout": "IPY_MODEL_527fc7dde51b4de28d14403364aec302",
            "placeholder": "​",
            "style": "IPY_MODEL_98428713edb24948a459bd15c065b058",
            "value": "Optimization Progress:  79%"
          }
        },
        "33555436828445df9721c64466ff2622": {
          "model_module": "@jupyter-widgets/controls",
          "model_module_version": "1.5.0",
          "model_name": "DescriptionStyleModel",
          "state": {
            "_model_module": "@jupyter-widgets/controls",
            "_model_module_version": "1.5.0",
            "_model_name": "DescriptionStyleModel",
            "_view_count": null,
            "_view_module": "@jupyter-widgets/base",
            "_view_module_version": "1.2.0",
            "_view_name": "StyleView",
            "description_width": ""
          }
        },
        "3f84bf5f084e443794fe39fc90f2b316": {
          "model_module": "@jupyter-widgets/controls",
          "model_module_version": "1.5.0",
          "model_name": "DescriptionStyleModel",
          "state": {
            "_model_module": "@jupyter-widgets/controls",
            "_model_module_version": "1.5.0",
            "_model_name": "DescriptionStyleModel",
            "_view_count": null,
            "_view_module": "@jupyter-widgets/base",
            "_view_module_version": "1.2.0",
            "_view_name": "StyleView",
            "description_width": ""
          }
        },
        "45cedbb7df0744f8b42f4195c6551cb3": {
          "model_module": "@jupyter-widgets/controls",
          "model_module_version": "1.5.0",
          "model_name": "HBoxModel",
          "state": {
            "_dom_classes": [],
            "_model_module": "@jupyter-widgets/controls",
            "_model_module_version": "1.5.0",
            "_model_name": "HBoxModel",
            "_view_count": null,
            "_view_module": "@jupyter-widgets/controls",
            "_view_module_version": "1.5.0",
            "_view_name": "HBoxView",
            "box_style": "",
            "children": [
              "IPY_MODEL_5d24872de60343a89f0155d26ac8a7e1",
              "IPY_MODEL_609586b721be499c8abb491526105f07",
              "IPY_MODEL_1a37d338db65463c99f0db08eda59ba5"
            ],
            "layout": "IPY_MODEL_0c041ee5425b4bd1bdbbfe43f8f83cf8"
          }
        },
        "527fc7dde51b4de28d14403364aec302": {
          "model_module": "@jupyter-widgets/base",
          "model_module_version": "1.2.0",
          "model_name": "LayoutModel",
          "state": {
            "_model_module": "@jupyter-widgets/base",
            "_model_module_version": "1.2.0",
            "_model_name": "LayoutModel",
            "_view_count": null,
            "_view_module": "@jupyter-widgets/base",
            "_view_module_version": "1.2.0",
            "_view_name": "LayoutView",
            "align_content": null,
            "align_items": null,
            "align_self": null,
            "border": null,
            "bottom": null,
            "display": null,
            "flex": null,
            "flex_flow": null,
            "grid_area": null,
            "grid_auto_columns": null,
            "grid_auto_flow": null,
            "grid_auto_rows": null,
            "grid_column": null,
            "grid_gap": null,
            "grid_row": null,
            "grid_template_areas": null,
            "grid_template_columns": null,
            "grid_template_rows": null,
            "height": null,
            "justify_content": null,
            "justify_items": null,
            "left": null,
            "margin": null,
            "max_height": null,
            "max_width": null,
            "min_height": null,
            "min_width": null,
            "object_fit": null,
            "object_position": null,
            "order": null,
            "overflow": null,
            "overflow_x": null,
            "overflow_y": null,
            "padding": null,
            "right": null,
            "top": null,
            "visibility": null,
            "width": null
          }
        },
        "561a1a8061044521935fa0d0672646a8": {
          "model_module": "@jupyter-widgets/base",
          "model_module_version": "1.2.0",
          "model_name": "LayoutModel",
          "state": {
            "_model_module": "@jupyter-widgets/base",
            "_model_module_version": "1.2.0",
            "_model_name": "LayoutModel",
            "_view_count": null,
            "_view_module": "@jupyter-widgets/base",
            "_view_module_version": "1.2.0",
            "_view_name": "LayoutView",
            "align_content": null,
            "align_items": null,
            "align_self": null,
            "border": null,
            "bottom": null,
            "display": null,
            "flex": null,
            "flex_flow": null,
            "grid_area": null,
            "grid_auto_columns": null,
            "grid_auto_flow": null,
            "grid_auto_rows": null,
            "grid_column": null,
            "grid_gap": null,
            "grid_row": null,
            "grid_template_areas": null,
            "grid_template_columns": null,
            "grid_template_rows": null,
            "height": null,
            "justify_content": null,
            "justify_items": null,
            "left": null,
            "margin": null,
            "max_height": null,
            "max_width": null,
            "min_height": null,
            "min_width": null,
            "object_fit": null,
            "object_position": null,
            "order": null,
            "overflow": null,
            "overflow_x": null,
            "overflow_y": null,
            "padding": null,
            "right": null,
            "top": null,
            "visibility": null,
            "width": null
          }
        },
        "5d24872de60343a89f0155d26ac8a7e1": {
          "model_module": "@jupyter-widgets/controls",
          "model_module_version": "1.5.0",
          "model_name": "HTMLModel",
          "state": {
            "_dom_classes": [],
            "_model_module": "@jupyter-widgets/controls",
            "_model_module_version": "1.5.0",
            "_model_name": "HTMLModel",
            "_view_count": null,
            "_view_module": "@jupyter-widgets/controls",
            "_view_module_version": "1.5.0",
            "_view_name": "HTMLView",
            "description": "",
            "description_tooltip": null,
            "layout": "IPY_MODEL_ee5bd5e5d758435d8528cf88dc6a2ebb",
            "placeholder": "​",
            "style": "IPY_MODEL_3f84bf5f084e443794fe39fc90f2b316",
            "value": "Optimization Progress: 100%"
          }
        },
        "609586b721be499c8abb491526105f07": {
          "model_module": "@jupyter-widgets/controls",
          "model_module_version": "1.5.0",
          "model_name": "FloatProgressModel",
          "state": {
            "_dom_classes": [],
            "_model_module": "@jupyter-widgets/controls",
            "_model_module_version": "1.5.0",
            "_model_name": "FloatProgressModel",
            "_view_count": null,
            "_view_module": "@jupyter-widgets/controls",
            "_view_module_version": "1.5.0",
            "_view_name": "ProgressView",
            "bar_style": "",
            "description": "",
            "description_tooltip": null,
            "layout": "IPY_MODEL_2a9e0b1b61b74276991bc0746c7fb107",
            "max": 120,
            "min": 0,
            "orientation": "horizontal",
            "style": "IPY_MODEL_11c4de07d6cb4eb39294300e2d640857",
            "value": 120
          }
        },
        "64354ddaf18a4d189ccaa78255ee585f": {
          "model_module": "@jupyter-widgets/controls",
          "model_module_version": "1.5.0",
          "model_name": "HTMLModel",
          "state": {
            "_dom_classes": [],
            "_model_module": "@jupyter-widgets/controls",
            "_model_module_version": "1.5.0",
            "_model_name": "HTMLModel",
            "_view_count": null,
            "_view_module": "@jupyter-widgets/controls",
            "_view_module_version": "1.5.0",
            "_view_name": "HTMLView",
            "description": "",
            "description_tooltip": null,
            "layout": "IPY_MODEL_9c4e2ad1fbba4c23b10d852f24de8f7f",
            "placeholder": "​",
            "style": "IPY_MODEL_17496a7dbc71420e88086278f3eb1c1b",
            "value": " 66/84 [2:38:53&lt;32:32, 108.46s/pipeline]"
          }
        },
        "7e6288d568fd41889f082f4225373666": {
          "model_module": "@jupyter-widgets/controls",
          "model_module_version": "1.5.0",
          "model_name": "FloatProgressModel",
          "state": {
            "_dom_classes": [],
            "_model_module": "@jupyter-widgets/controls",
            "_model_module_version": "1.5.0",
            "_model_name": "FloatProgressModel",
            "_view_count": null,
            "_view_module": "@jupyter-widgets/controls",
            "_view_module_version": "1.5.0",
            "_view_name": "ProgressView",
            "bar_style": "",
            "description": "",
            "description_tooltip": null,
            "layout": "IPY_MODEL_9c9df56c28854419ad5594ccc7fd65fe",
            "max": 84,
            "min": 0,
            "orientation": "horizontal",
            "style": "IPY_MODEL_dd47d9dca7084b6b8daa5189a5a47dfd",
            "value": 66
          }
        },
        "94316c6be834459eb1f1022f0c845b00": {
          "model_module": "@jupyter-widgets/controls",
          "model_module_version": "1.5.0",
          "model_name": "HBoxModel",
          "state": {
            "_dom_classes": [],
            "_model_module": "@jupyter-widgets/controls",
            "_model_module_version": "1.5.0",
            "_model_name": "HBoxModel",
            "_view_count": null,
            "_view_module": "@jupyter-widgets/controls",
            "_view_module_version": "1.5.0",
            "_view_name": "HBoxView",
            "box_style": "",
            "children": [
              "IPY_MODEL_30b0cf369cba48e985a134889c8ad24d",
              "IPY_MODEL_7e6288d568fd41889f082f4225373666",
              "IPY_MODEL_64354ddaf18a4d189ccaa78255ee585f"
            ],
            "layout": "IPY_MODEL_a51341a5d2c74b798906b7243f676a9f"
          }
        },
        "98428713edb24948a459bd15c065b058": {
          "model_module": "@jupyter-widgets/controls",
          "model_module_version": "1.5.0",
          "model_name": "DescriptionStyleModel",
          "state": {
            "_model_module": "@jupyter-widgets/controls",
            "_model_module_version": "1.5.0",
            "_model_name": "DescriptionStyleModel",
            "_view_count": null,
            "_view_module": "@jupyter-widgets/base",
            "_view_module_version": "1.2.0",
            "_view_name": "StyleView",
            "description_width": ""
          }
        },
        "9c4e2ad1fbba4c23b10d852f24de8f7f": {
          "model_module": "@jupyter-widgets/base",
          "model_module_version": "1.2.0",
          "model_name": "LayoutModel",
          "state": {
            "_model_module": "@jupyter-widgets/base",
            "_model_module_version": "1.2.0",
            "_model_name": "LayoutModel",
            "_view_count": null,
            "_view_module": "@jupyter-widgets/base",
            "_view_module_version": "1.2.0",
            "_view_name": "LayoutView",
            "align_content": null,
            "align_items": null,
            "align_self": null,
            "border": null,
            "bottom": null,
            "display": null,
            "flex": null,
            "flex_flow": null,
            "grid_area": null,
            "grid_auto_columns": null,
            "grid_auto_flow": null,
            "grid_auto_rows": null,
            "grid_column": null,
            "grid_gap": null,
            "grid_row": null,
            "grid_template_areas": null,
            "grid_template_columns": null,
            "grid_template_rows": null,
            "height": null,
            "justify_content": null,
            "justify_items": null,
            "left": null,
            "margin": null,
            "max_height": null,
            "max_width": null,
            "min_height": null,
            "min_width": null,
            "object_fit": null,
            "object_position": null,
            "order": null,
            "overflow": null,
            "overflow_x": null,
            "overflow_y": null,
            "padding": null,
            "right": null,
            "top": null,
            "visibility": null,
            "width": null
          }
        },
        "9c9df56c28854419ad5594ccc7fd65fe": {
          "model_module": "@jupyter-widgets/base",
          "model_module_version": "1.2.0",
          "model_name": "LayoutModel",
          "state": {
            "_model_module": "@jupyter-widgets/base",
            "_model_module_version": "1.2.0",
            "_model_name": "LayoutModel",
            "_view_count": null,
            "_view_module": "@jupyter-widgets/base",
            "_view_module_version": "1.2.0",
            "_view_name": "LayoutView",
            "align_content": null,
            "align_items": null,
            "align_self": null,
            "border": null,
            "bottom": null,
            "display": null,
            "flex": null,
            "flex_flow": null,
            "grid_area": null,
            "grid_auto_columns": null,
            "grid_auto_flow": null,
            "grid_auto_rows": null,
            "grid_column": null,
            "grid_gap": null,
            "grid_row": null,
            "grid_template_areas": null,
            "grid_template_columns": null,
            "grid_template_rows": null,
            "height": null,
            "justify_content": null,
            "justify_items": null,
            "left": null,
            "margin": null,
            "max_height": null,
            "max_width": null,
            "min_height": null,
            "min_width": null,
            "object_fit": null,
            "object_position": null,
            "order": null,
            "overflow": null,
            "overflow_x": null,
            "overflow_y": null,
            "padding": null,
            "right": null,
            "top": null,
            "visibility": null,
            "width": null
          }
        },
        "a51341a5d2c74b798906b7243f676a9f": {
          "model_module": "@jupyter-widgets/base",
          "model_module_version": "1.2.0",
          "model_name": "LayoutModel",
          "state": {
            "_model_module": "@jupyter-widgets/base",
            "_model_module_version": "1.2.0",
            "_model_name": "LayoutModel",
            "_view_count": null,
            "_view_module": "@jupyter-widgets/base",
            "_view_module_version": "1.2.0",
            "_view_name": "LayoutView",
            "align_content": null,
            "align_items": null,
            "align_self": null,
            "border": null,
            "bottom": null,
            "display": null,
            "flex": null,
            "flex_flow": null,
            "grid_area": null,
            "grid_auto_columns": null,
            "grid_auto_flow": null,
            "grid_auto_rows": null,
            "grid_column": null,
            "grid_gap": null,
            "grid_row": null,
            "grid_template_areas": null,
            "grid_template_columns": null,
            "grid_template_rows": null,
            "height": null,
            "justify_content": null,
            "justify_items": null,
            "left": null,
            "margin": null,
            "max_height": null,
            "max_width": null,
            "min_height": null,
            "min_width": null,
            "object_fit": null,
            "object_position": null,
            "order": null,
            "overflow": null,
            "overflow_x": null,
            "overflow_y": null,
            "padding": null,
            "right": null,
            "top": null,
            "visibility": null,
            "width": null
          }
        },
        "dd47d9dca7084b6b8daa5189a5a47dfd": {
          "model_module": "@jupyter-widgets/controls",
          "model_module_version": "1.5.0",
          "model_name": "ProgressStyleModel",
          "state": {
            "_model_module": "@jupyter-widgets/controls",
            "_model_module_version": "1.5.0",
            "_model_name": "ProgressStyleModel",
            "_view_count": null,
            "_view_module": "@jupyter-widgets/base",
            "_view_module_version": "1.2.0",
            "_view_name": "StyleView",
            "bar_color": null,
            "description_width": ""
          }
        },
        "ee5bd5e5d758435d8528cf88dc6a2ebb": {
          "model_module": "@jupyter-widgets/base",
          "model_module_version": "1.2.0",
          "model_name": "LayoutModel",
          "state": {
            "_model_module": "@jupyter-widgets/base",
            "_model_module_version": "1.2.0",
            "_model_name": "LayoutModel",
            "_view_count": null,
            "_view_module": "@jupyter-widgets/base",
            "_view_module_version": "1.2.0",
            "_view_name": "LayoutView",
            "align_content": null,
            "align_items": null,
            "align_self": null,
            "border": null,
            "bottom": null,
            "display": null,
            "flex": null,
            "flex_flow": null,
            "grid_area": null,
            "grid_auto_columns": null,
            "grid_auto_flow": null,
            "grid_auto_rows": null,
            "grid_column": null,
            "grid_gap": null,
            "grid_row": null,
            "grid_template_areas": null,
            "grid_template_columns": null,
            "grid_template_rows": null,
            "height": null,
            "justify_content": null,
            "justify_items": null,
            "left": null,
            "margin": null,
            "max_height": null,
            "max_width": null,
            "min_height": null,
            "min_width": null,
            "object_fit": null,
            "object_position": null,
            "order": null,
            "overflow": null,
            "overflow_x": null,
            "overflow_y": null,
            "padding": null,
            "right": null,
            "top": null,
            "visibility": null,
            "width": null
          }
        }
      }
    }
  },
  "nbformat": 4,
  "nbformat_minor": 0
}
