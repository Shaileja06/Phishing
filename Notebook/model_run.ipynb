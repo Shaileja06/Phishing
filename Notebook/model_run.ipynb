{
  "cells": [
    {
      "cell_type": "code",
      "execution_count": 1,
      "metadata": {
        "colab": {
          "base_uri": "https://localhost:8080/"
        },
        "id": "B-O3O9atNoFK",
        "outputId": "ca80e1fa-b3d6-4ea6-8b02-e8ddf54d7054"
      },
      "outputs": [
        {
          "name": "stdout",
          "output_type": "stream",
          "text": [
            "Cloning into 'Phishing'...\n",
            "remote: Enumerating objects: 373, done.\u001b[K\n",
            "remote: Counting objects: 100% (373/373), done.\u001b[K\n",
            "remote: Compressing objects: 100% (229/229), done.\u001b[K\n",
            "remote: Total 373 (delta 210), reused 294 (delta 131), pack-reused 0\u001b[K\n",
            "Receiving objects: 100% (373/373), 25.31 MiB | 13.09 MiB/s, done.\n",
            "Resolving deltas: 100% (210/210), done.\n"
          ]
        }
      ],
      "source": [
        "! git clone https://github.com/Mandalor-09/Phishing.git"
      ]
    },
    {
      "cell_type": "code",
      "execution_count": 2,
      "metadata": {
        "colab": {
          "base_uri": "https://localhost:8080/"
        },
        "id": "MBSn597DOWUH",
        "outputId": "12cb49d0-f2cd-47d6-d892-f55ef0c10a78"
      },
      "outputs": [
        {
          "name": "stdout",
          "output_type": "stream",
          "text": [
            "/content/Phishing\n"
          ]
        }
      ],
      "source": [
        "%cd /content/Phishing"
      ]
    },
    {
      "cell_type": "code",
      "execution_count": 3,
      "metadata": {
        "colab": {
          "base_uri": "https://localhost:8080/",
          "height": 35
        },
        "id": "7WNK1vQ7OjoO",
        "outputId": "9742678b-83b5-4e95-a9e4-a15a45a2f7f9"
      },
      "outputs": [
        {
          "data": {
            "application/vnd.google.colaboratory.intrinsic+json": {
              "type": "string"
            },
            "text/plain": [
              "'/content/Phishing'"
            ]
          },
          "execution_count": 3,
          "metadata": {},
          "output_type": "execute_result"
        }
      ],
      "source": [
        "%pwd"
      ]
    },
    {
      "cell_type": "code",
      "execution_count": 4,
      "metadata": {
        "colab": {
          "base_uri": "https://localhost:8080/"
        },
        "id": "z3fIzjVHOmkq",
        "outputId": "af2e6aec-443f-4da1-ab3c-76dc2d352136"
      },
      "outputs": [
        {
          "name": "stdout",
          "output_type": "stream",
          "text": [
            "Installing collected packages: watchdog, validators, smmap, python-whois, pydeck, gitdb, gitpython, imblearn, streamlit, Phishing-Website-Detection\n",
            "  Running setup.py develop for Phishing-Website-Detection\n",
            "Successfully installed Phishing-Website-Detection gitdb-4.0.11 gitpython-3.1.41 imblearn-0.0 pydeck-0.8.1b0 python-whois-0.8.0 smmap-5.0.1 streamlit-1.30.0 validators-0.22.0 watchdog-3.0.0\n"
          ]
        }
      ],
      "source": [
        "!pip install -r requirements.txt"
      ]
    },
    {
      "cell_type": "code",
      "execution_count": 17,
      "metadata": {
        "colab": {
          "base_uri": "https://localhost:8080/"
        },
        "id": "jP0Eu8NRO9_M",
        "outputId": "ff2656df-9162-4709-f7e7-7a70dc579797"
      },
      "outputs": [
        {
          "name": "stdout",
          "output_type": "stream",
          "text": [
            "Smoting Completed Succesfully The Vale counts are 1    58000\n",
            "0    58000\n",
            "Name: phishing, dtype: int64\n",
            "Trainind Data\n",
            "Accuracy of XGBClassifier using HyperOPT: 0.9075632183908046\n",
            "Precision: 0.8778734413436254\n",
            "Recall: 0.9477335164835164\n",
            "F2 Score: 0.9328859362887378\n",
            "Test Data Loaded Successfully\n",
            "PCA Model loaded Successfully\n",
            "Standardization Model loaded Successfully\n",
            "Testing Data\n",
            "Accuracy of XGBClassifier using HyperOPT: 0.9105862068965517\n",
            "Precision: 0.8790484194194841\n",
            "Recall: 0.9495810055865922\n",
            "F2 Score: 0.9345832932411443\n",
            "Pipeline trained and saved to: artifacts/model/model.joblib\n"
          ]
        }
      ],
      "source": [
        "!python src/pipeline/training_pipeline.py"
      ]
    },
    {
      "cell_type": "code",
      "execution_count": 18,
      "metadata": {
        "colab": {
          "base_uri": "https://localhost:8080/"
        },
        "id": "lUwFPFQ7zAai",
        "outputId": "75380875-7370-487f-d46b-b2f836a71a06"
      },
      "outputs": [
        {
          "name": "stdout",
          "output_type": "stream",
          "text": [
            "Accuracy   0.8525705516241794\n",
            "Precision: 0.833601213040182\n",
            "Recall: 0.8969230267236598\n",
            "F2 Score: 0.8835005753296091\n"
          ]
        }
      ],
      "source": [
        "from sklearn.metrics import accuracy_score,precision_score, fbeta_score, confusion_matrix\n",
        "import pandas as pd\n",
        "import joblib\n",
        "df3 = pd.read_csv('/content/Phishing/data/dataset_small.csv')\n",
        "df3 = df3[list(pd.read_csv('/content/Phishing/artifacts/cleaned_data/train_data.csv').columns)]\n",
        "X2 = df3.drop(columns='phishing',axis=1)\n",
        "Y2 = df3['phishing']\n",
        "pca = joblib.load('/content/Phishing/artifacts/components/pca.joblib')\n",
        "X2 = pca.fit_transform(X2)\n",
        "scaler = joblib.load('/content/Phishing/artifacts/components/standard.joblib')\n",
        "X2 = scaler.transform(X2)\n",
        "xgb_hyp = joblib.load('/content/Phishing/artifacts/model/model.joblib')\n",
        "ypred2 = xgb_hyp.predict(X2)\n",
        "accuracy = accuracy_score(Y2,ypred2)\n",
        "print('Accuracy  ' ,accuracy)\n",
        "y_true = Y2\n",
        "y_pred = ypred2\n",
        "\n",
        "# Assuming y_true contains the true labels and y_pred contains the predicted labels\n",
        "precision = precision_score(y_true, y_pred)\n",
        "conf_matrix = confusion_matrix(y_true, y_pred)\n",
        "recall = conf_matrix[1, 1] / (conf_matrix[1, 1] + conf_matrix[1, 0])\n",
        "f2_score = fbeta_score(y_true, y_pred, beta=2)\n",
        "\n",
        "print(f'Precision: {precision}')\n",
        "print(f'Recall: {recall}')\n",
        "print(f'F2 Score: {f2_score}')"
      ]
    },
    {
      "cell_type": "code",
      "execution_count": 19,
      "metadata": {
        "id": "crelgpDV0V4G"
      },
      "outputs": [],
      "source": [
        "import numpy as np\n",
        "from urllib.parse import urlparse, parse_qs\n",
        "import joblib\n",
        "import socket\n",
        "\n",
        "def is_ip_address(domain):\n",
        "    try:\n",
        "        socket.inet_aton(domain)\n",
        "        return True\n",
        "    except socket.error:\n",
        "        return False\n",
        "\n",
        "def extract_additional_url_features(url):\n",
        "    parsed_url = urlparse(url)\n",
        "\n",
        "    return {\n",
        "        'qty_dot_url': url.count('.'),\n",
        "        'qty_hyphen_url': url.count('-'),\n",
        "        'qty_underline_url': url.count('_'),\n",
        "        'qty_slash_url': url.count('/'),\n",
        "        'qty_questionmark_url': url.count('?'),\n",
        "        'qty_equal_url': url.count('='),\n",
        "        'qty_at_url': url.count('@'),\n",
        "        'qty_exclamation_url': url.count('!'),\n",
        "        'qty_space_url': url.count(' '),\n",
        "        'qty_tilde_url': url.count('~'),\n",
        "        'qty_comma_url': url.count(','),\n",
        "        'qty_plus_url': url.count('+'),\n",
        "        'qty_asterisk_url': url.count('*'),\n",
        "        'qty_hashtag_url': url.count('#'),\n",
        "        'qty_dollar_url': url.count('$'),\n",
        "        'qty_percent_url': url.count('%'),\n",
        "        'qty_tld_url': len(parsed_url.netloc.split('.')[-1]),\n",
        "        'length_url': len(url)\n",
        "    }\n",
        "\n",
        "def extract_additional_domain_features(url):\n",
        "    # Parse the URL to get the domain\n",
        "    domain = urlparse(url).netloc\n",
        "\n",
        "    if not domain:\n",
        "        return {\n",
        "            'qty_dot_domain': -1,\n",
        "            'qty_hyphen_domain': -1,\n",
        "            'qty_underline_domain': -1,\n",
        "            'qty_at_domain': -1,\n",
        "            'qty_vowels_domain': -1,\n",
        "            'domain_in_ip': -1,\n",
        "            'server_client_domain': -1\n",
        "        }\n",
        "\n",
        "    return {\n",
        "        'qty_dot_domain': domain.count('.'),\n",
        "        'qty_hyphen_domain': domain.count('-'),\n",
        "        'qty_underline_domain': domain.count('_'),\n",
        "        'qty_at_domain': domain.count('@'),\n",
        "        'qty_vowels_domain': sum(1 for char in domain if char.lower() in \"aeiou\"),\n",
        "        'domain_in_ip': 1 if is_ip_address(domain) else 0,\n",
        "        'server_client_domain': 1 if domain.startswith(\"www.\") else 0\n",
        "    }\n",
        "\n",
        "def extract_additional_path_features(url):\n",
        "    # Parse the URL to get the path\n",
        "    path = urlparse(url).path\n",
        "\n",
        "    if not path:\n",
        "        return {\n",
        "            'qty_dot_directory': -1,\n",
        "            'qty_hyphen_directory': -1,\n",
        "            'qty_underline_directory': -1,\n",
        "            'qty_percent_directory': -1,\n",
        "            'directory_length': -1\n",
        "        }\n",
        "\n",
        "    return {\n",
        "        'qty_dot_directory': path.count('.'),\n",
        "        'qty_hyphen_directory': path.count('-'),\n",
        "        'qty_underline_directory': path.count('_'),\n",
        "        'qty_percent_directory': path.count('%'),\n",
        "        'directory_length': len(path)\n",
        "    }\n",
        "\n",
        "def extract_file_features(url):\n",
        "    # Parse the URL to get the path\n",
        "    path = urlparse(url).path\n",
        "\n",
        "    if not path:\n",
        "        return {\n",
        "            'file_length': -1\n",
        "        }\n",
        "\n",
        "    # Extract the file name from the path\n",
        "    file_name = path.split('/')[-1]\n",
        "\n",
        "    # Attribute: Length of the file name\n",
        "    file_length = len(file_name)\n",
        "\n",
        "    return {\n",
        "        'file_length': file_length\n",
        "    }\n",
        "\n",
        "def extract_additional_params_features(url):\n",
        "    # Parse the URL to get the query parameters\n",
        "    query_params = urlparse(url).query\n",
        "\n",
        "    if not query_params:\n",
        "        return {\n",
        "            'qty_dot_params': -1,\n",
        "            'qty_hyphen_params': -1,\n",
        "            'qty_underline_params': -1,\n",
        "            'qty_slash_params': -1,\n",
        "            'qty_questionmark_params': -1,\n",
        "            'qty_percent_params': -1\n",
        "        }\n",
        "\n",
        "    # Extract parameter names from the query string\n",
        "    param_names = parse_qs(query_params).keys()\n",
        "\n",
        "    return {\n",
        "        'qty_dot_params': sum(param.count('.') for param in param_names),\n",
        "        'qty_hyphen_params': sum(param.count('-') for param in param_names),\n",
        "        'qty_underline_params': sum(param.count('_') for param in param_names),\n",
        "        'qty_slash_params': sum(param.count('/') for param in param_names),\n",
        "        'qty_questionmark_params': sum(param.count('?') for param in param_names),\n",
        "        'qty_percent_params': sum(param.count('%') for param in param_names)\n",
        "    }\n",
        "\n",
        "def email_urlshorten(url):\n",
        "    # Parse the URL\n",
        "    parsed_url = urlparse(url)\n",
        "\n",
        "    # Extract the domain from the URL\n",
        "    domain = parsed_url.netloc\n",
        "\n",
        "    if not domain:\n",
        "        return {\n",
        "            'email_in_url': -1,\n",
        "            'tls_ssl_certificate' : -1,\n",
        "            'url_shortened': -1\n",
        "        }\n",
        "\n",
        "    return {\n",
        "        'email_in_url': 1 if '@' in url else 0,\n",
        "        'tls_ssl_certificate' : 1 if url.startswith(\"https://\") else 0,\n",
        "        'url_shortened': 1 if domain in ['bit.ly', 'goo.gl', 'tinyurl.com', 'ow.ly'] else 0\n",
        "    }\n",
        "\n",
        "def extract_all_features(url):\n",
        "    # Extract URL-based features\n",
        "    url_features = extract_additional_url_features(url)\n",
        "\n",
        "    # Extract Domain-based features\n",
        "    domain_features = extract_additional_domain_features(url)\n",
        "\n",
        "    # Extract Page-based features\n",
        "    path_features = extract_additional_path_features(url)\n",
        "\n",
        "    # Extract File-based feature\n",
        "    file_feature = extract_file_features(url)\n",
        "\n",
        "    # Extract Params-based features\n",
        "    params_features = extract_additional_params_features(url)\n",
        "\n",
        "    # Extract Additional Features\n",
        "    additional_features = email_urlshorten(url)\n",
        "\n",
        "    # Combine all features\n",
        "    all_features = {**url_features, **domain_features, **path_features, **file_feature, **params_features, **additional_features}\n",
        "\n",
        "    return all_features\n"
      ]
    },
    {
      "cell_type": "code",
      "execution_count": 21,
      "metadata": {
        "colab": {
          "base_uri": "https://localhost:8080/"
        },
        "id": "XmZcrnJD1GK0",
        "outputId": "d9d70505-3af0-4bf1-c25e-c1346c46f805"
      },
      "outputs": [
        {
          "name": "stdout",
          "output_type": "stream",
          "text": [
            "[1]\n"
          ]
        },
        {
          "name": "stderr",
          "output_type": "stream",
          "text": [
            "/usr/local/lib/python3.10/dist-packages/sklearn/base.py:439: UserWarning: X does not have valid feature names, but PCA was fitted with feature names\n",
            "  warnings.warn(\n"
          ]
        }
      ],
      "source": [
        "url = \"http://app.validchk.com/visitqr.aspx?vid=1073653\"\n",
        "# http://app.validchk.com/visitqr.aspx?vid=1073653\n",
        "extracted_features = extract_all_features(url)\n",
        "\n",
        "# Extract features and reshape into a 2D array\n",
        "data = np.array(list(extracted_features.values())).reshape(1, -1)\n",
        "\n",
        "# Assuming you have a PCA object\n",
        "pca_transformed_data = pca.transform(data)\n",
        "\n",
        "# Assuming you have a scaler object\n",
        "scaled_data = scaler.transform(pca_transformed_data)\n",
        "\n",
        "\n",
        "# Use the trained XGBBoost for prediction\n",
        "prediction = xgb_hyp.predict(scaled_data)\n",
        "print(prediction)"
      ]
    },
    {
      "cell_type": "code",
      "execution_count": 22,
      "metadata": {
        "colab": {
          "base_uri": "https://localhost:8080/",
          "height": 35
        },
        "id": "GOtNFBSMZMr0",
        "outputId": "9d93eb48-bdc1-4554-b2ec-e830db4e07a1"
      },
      "outputs": [
        {
          "data": {
            "application/vnd.google.colaboratory.intrinsic+json": {
              "type": "string"
            },
            "text/plain": [
              "'/content/Phishing.zip'"
            ]
          },
          "execution_count": 22,
          "metadata": {},
          "output_type": "execute_result"
        }
      ],
      "source": [
        "import shutil\n",
        "# Directory to zip (modify this based on your directory structure)\n",
        "directory_to_zip = '/content/Phishing'\n",
        "\n",
        "# Create a zip file\n",
        "zip_file_path = '/content/Phishing.zip'\n",
        "shutil.make_archive(zip_file_path[:-4], 'zip', directory_to_zip)\n"
      ]
    },
    {
      "cell_type": "code",
      "execution_count": null,
      "metadata": {
        "id": "kvGwhf6G1atJ"
      },
      "outputs": [],
      "source": []
    }
  ],
  "metadata": {
    "accelerator": "GPU",
    "colab": {
      "provenance": []
    },
    "kernelspec": {
      "display_name": "Python 3",
      "name": "python3"
    },
    "language_info": {
      "name": "python",
      "version": "3.8.0"
    }
  },
  "nbformat": 4,
  "nbformat_minor": 0
}
